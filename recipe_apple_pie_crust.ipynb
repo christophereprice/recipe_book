{
 "cells": [
  {
   "cell_type": "code",
   "execution_count": 1,
   "id": "a6654593-5744-4a6a-bb09-ebc4f9ae001e",
   "metadata": {},
   "outputs": [],
   "source": [
    "import convert as c\n",
    "import pandas as pd"
   ]
  },
  {
   "cell_type": "markdown",
   "id": "9d926ff1-992f-4c14-9d2f-119bb1ee8615",
   "metadata": {
    "tags": []
   },
   "source": [
    "## Apple Pie Crust (Joshua Weissman)"
   ]
  },
  {
   "cell_type": "markdown",
   "id": "bef6ebc3-7359-419f-bef4-39b611d3399a",
   "metadata": {},
   "source": [
    "Reference: https://youtu.be/irufGFnw7LM"
   ]
  },
  {
   "cell_type": "markdown",
   "id": "8cd8b5b1-246f-4aec-b249-d5e86ccf28b3",
   "metadata": {},
   "source": [
    "### Ingredients (./configure)"
   ]
  },
  {
   "cell_type": "code",
   "execution_count": 2,
   "id": "1d411fd2-ecf9-48e3-93bf-583273530334",
   "metadata": {},
   "outputs": [],
   "source": [
    "flour = c.flour(375,\"grams\")\n",
    "butter = c.oil(0.75,\"cups\")\n",
    "salt = c.salt(10,\"grams\")\n",
    "sugar = c.sugar(10,\"grams\")\n",
    "water = c.water(108,\"grams\")"
   ]
  },
  {
   "cell_type": "markdown",
   "id": "6a84336e-ed1b-45c0-b85e-aaff5389a41d",
   "metadata": {},
   "source": [
    "### Combine Ingredients (make)"
   ]
  },
  {
   "cell_type": "code",
   "execution_count": 3,
   "id": "35b4cb81-ff6d-4c16-992e-665d4ec8e942",
   "metadata": {},
   "outputs": [],
   "source": [
    "recipe = pd.concat([flour,butter,salt,sugar,water])\n",
    "recipe.loc['Total'] = recipe.sum()"
   ]
  },
  {
   "cell_type": "code",
   "execution_count": 5,
   "id": "38cd765d-47bc-431c-9e30-49e0e3937657",
   "metadata": {},
   "outputs": [
    {
     "data": {
      "text/html": [
       "<div>\n",
       "<style scoped>\n",
       "    .dataframe tbody tr th:only-of-type {\n",
       "        vertical-align: middle;\n",
       "    }\n",
       "\n",
       "    .dataframe tbody tr th {\n",
       "        vertical-align: top;\n",
       "    }\n",
       "\n",
       "    .dataframe thead th {\n",
       "        text-align: right;\n",
       "    }\n",
       "</style>\n",
       "<table border=\"1\" class=\"dataframe\">\n",
       "  <thead>\n",
       "    <tr style=\"text-align: right;\">\n",
       "      <th></th>\n",
       "      <th>grams</th>\n",
       "      <th>tbsp</th>\n",
       "      <th>cup</th>\n",
       "      <th>cost</th>\n",
       "      <th>unit_cost</th>\n",
       "      <th>unit_quantity</th>\n",
       "      <th>calories</th>\n",
       "    </tr>\n",
       "  </thead>\n",
       "  <tbody>\n",
       "    <tr>\n",
       "      <th>flour</th>\n",
       "      <td>375.0</td>\n",
       "      <td>46.875000</td>\n",
       "      <td>2.929688</td>\n",
       "      <td>0.214049</td>\n",
       "      <td>1.29</td>\n",
       "      <td>0.165929</td>\n",
       "      <td>1500.0</td>\n",
       "    </tr>\n",
       "    <tr>\n",
       "      <th>oil</th>\n",
       "      <td>170.4</td>\n",
       "      <td>12.000000</td>\n",
       "      <td>0.750000</td>\n",
       "      <td>1.134292</td>\n",
       "      <td>13.28</td>\n",
       "      <td>0.085414</td>\n",
       "      <td>1533.6</td>\n",
       "    </tr>\n",
       "    <tr>\n",
       "      <th>salt</th>\n",
       "      <td>10.0</td>\n",
       "      <td>0.555556</td>\n",
       "      <td>0.034722</td>\n",
       "      <td>0.006106</td>\n",
       "      <td>0.45</td>\n",
       "      <td>0.013569</td>\n",
       "      <td>0.0</td>\n",
       "    </tr>\n",
       "    <tr>\n",
       "      <th>sugar</th>\n",
       "      <td>10.0</td>\n",
       "      <td>0.833333</td>\n",
       "      <td>0.052083</td>\n",
       "      <td>0.012099</td>\n",
       "      <td>2.19</td>\n",
       "      <td>0.005525</td>\n",
       "      <td>37.5</td>\n",
       "    </tr>\n",
       "    <tr>\n",
       "      <th>water</th>\n",
       "      <td>108.0</td>\n",
       "      <td>7.304207</td>\n",
       "      <td>0.456513</td>\n",
       "      <td>0.000000</td>\n",
       "      <td>0.00</td>\n",
       "      <td>0.000000</td>\n",
       "      <td>0.0</td>\n",
       "    </tr>\n",
       "    <tr>\n",
       "      <th>Total</th>\n",
       "      <td>673.4</td>\n",
       "      <td>67.568096</td>\n",
       "      <td>4.223006</td>\n",
       "      <td>1.366546</td>\n",
       "      <td>17.21</td>\n",
       "      <td>0.270436</td>\n",
       "      <td>3071.1</td>\n",
       "    </tr>\n",
       "  </tbody>\n",
       "</table>\n",
       "</div>"
      ],
      "text/plain": [
       "       grams       tbsp       cup      cost  unit_cost  unit_quantity  \\\n",
       "flour  375.0  46.875000  2.929688  0.214049       1.29       0.165929   \n",
       "oil    170.4  12.000000  0.750000  1.134292      13.28       0.085414   \n",
       "salt    10.0   0.555556  0.034722  0.006106       0.45       0.013569   \n",
       "sugar   10.0   0.833333  0.052083  0.012099       2.19       0.005525   \n",
       "water  108.0   7.304207  0.456513  0.000000       0.00       0.000000   \n",
       "Total  673.4  67.568096  4.223006  1.366546      17.21       0.270436   \n",
       "\n",
       "       calories  \n",
       "flour    1500.0  \n",
       "oil      1533.6  \n",
       "salt        0.0  \n",
       "sugar      37.5  \n",
       "water       0.0  \n",
       "Total    3071.1  "
      ]
     },
     "execution_count": 5,
     "metadata": {},
     "output_type": "execute_result"
    }
   ],
   "source": [
    "recipe"
   ]
  },
  {
   "cell_type": "markdown",
   "id": "0866e3ad-2bcd-4c6c-ad57-6d240b76a8bd",
   "metadata": {},
   "source": [
    "```\n",
    "Pie Crust:\n",
    "- 2 1/2 cups all-purpose flour (375g),  plus extra for rolling\n",
    "- 3/4 cup unsalted butter, very cold, cut into 1/2 inch cubes\n",
    "- 1.5 teaspoons (10g) fine salt\n",
    "- 2 teaspoons (10g) sugar\n",
    "- 6 to 8 tablespoons (108g) ice water\n",
    "```"
   ]
  },
  {
   "cell_type": "code",
   "execution_count": null,
   "id": "3db7d7df-1074-44e6-b442-fb81110127da",
   "metadata": {},
   "outputs": [],
   "source": []
  }
 ],
 "metadata": {
  "kernelspec": {
   "display_name": "Python 3 (ipykernel)",
   "language": "python",
   "name": "python3"
  },
  "language_info": {
   "codemirror_mode": {
    "name": "ipython",
    "version": 3
   },
   "file_extension": ".py",
   "mimetype": "text/x-python",
   "name": "python",
   "nbconvert_exporter": "python",
   "pygments_lexer": "ipython3",
   "version": "3.9.7"
  }
 },
 "nbformat": 4,
 "nbformat_minor": 5
}
