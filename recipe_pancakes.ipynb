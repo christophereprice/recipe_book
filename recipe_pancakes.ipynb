{
 "cells": [
  {
   "cell_type": "code",
   "execution_count": 1,
   "id": "48869a0e-7d33-42d8-9baa-a5ddaf58c68a",
   "metadata": {},
   "outputs": [],
   "source": [
    "import convert as c\n",
    "import pandas as pd"
   ]
  },
  {
   "cell_type": "markdown",
   "id": "c7c27c63-7279-4fac-aec6-5685aa95ab3d",
   "metadata": {
    "tags": []
   },
   "source": [
    "## Pancakes"
   ]
  },
  {
   "cell_type": "markdown",
   "id": "8d9b3fd7-7479-4aec-b380-103f8d0315ba",
   "metadata": {},
   "source": [
    "Reference: https://www.allrecipes.com/recipe/21014/good-old-fashioned-pancakes/"
   ]
  },
  {
   "cell_type": "markdown",
   "id": "8b63da5c-62c7-46f7-a165-308618753353",
   "metadata": {},
   "source": [
    "### Ingredients (./configure)"
   ]
  },
  {
   "cell_type": "code",
   "execution_count": 2,
   "id": "766865cd-eda4-432a-b677-9515582989f9",
   "metadata": {},
   "outputs": [],
   "source": [
    "flour = c.flour(1.5,\"cups\")\n",
    "water = c.water(1.25,\"cups\")\n",
    "oil = c.oil(3,\"tbsp\")\n",
    "sugar = c.sugar(1,\"tbsp\")\n",
    "salt = c.salt(0.3,\"tbsp\")\n",
    "milk = c.milk(2,\"tbsp\")\n",
    "baking_powder = c.baking_powder(1.3,\"tbsp\")"
   ]
  },
  {
   "cell_type": "markdown",
   "id": "6f84d19d-9643-450d-8378-c66124d7a881",
   "metadata": {},
   "source": [
    "Note: +1 egg per standard recipe"
   ]
  },
  {
   "cell_type": "markdown",
   "id": "7b92d7ed-e564-4238-a605-b6deca6a75ca",
   "metadata": {},
   "source": [
    "### Combine Ingredients (make)"
   ]
  },
  {
   "cell_type": "code",
   "execution_count": 3,
   "id": "0c9b7433-665d-4c50-8559-64f60df576f8",
   "metadata": {},
   "outputs": [],
   "source": [
    "pancakes = pd.concat([flour,water,oil,sugar,salt,milk,baking_powder])\n",
    "pancakes.loc['Total'] = pancakes.sum()"
   ]
  },
  {
   "cell_type": "markdown",
   "id": "500bc981-c220-4a42-b329-210855c37b0a",
   "metadata": {},
   "source": [
    "### Deploy Pancakes"
   ]
  },
  {
   "cell_type": "markdown",
   "id": "f6c37221-a1bc-40cb-8103-f2ea4f3a2500",
   "metadata": {},
   "source": [
    "#### Set Constraints"
   ]
  },
  {
   "cell_type": "code",
   "execution_count": 4,
   "id": "75a048a2-3150-4387-840f-359b9f059d15",
   "metadata": {
    "tags": []
   },
   "outputs": [
    {
     "data": {
      "text/html": [
       "<div>\n",
       "<style scoped>\n",
       "    .dataframe tbody tr th:only-of-type {\n",
       "        vertical-align: middle;\n",
       "    }\n",
       "\n",
       "    .dataframe tbody tr th {\n",
       "        vertical-align: top;\n",
       "    }\n",
       "\n",
       "    .dataframe thead th {\n",
       "        text-align: right;\n",
       "    }\n",
       "</style>\n",
       "<table border=\"1\" class=\"dataframe\">\n",
       "  <thead>\n",
       "    <tr style=\"text-align: right;\">\n",
       "      <th></th>\n",
       "      <th>grams</th>\n",
       "      <th>tbsp</th>\n",
       "      <th>cup</th>\n",
       "      <th>cost</th>\n",
       "      <th>unit_cost</th>\n",
       "      <th>unit_quantity</th>\n",
       "      <th>calories</th>\n",
       "    </tr>\n",
       "  </thead>\n",
       "  <tbody>\n",
       "    <tr>\n",
       "      <th>flour</th>\n",
       "      <td>96.00</td>\n",
       "      <td>12.00</td>\n",
       "      <td>0.750000</td>\n",
       "      <td>0.054796</td>\n",
       "      <td>0.645</td>\n",
       "      <td>0.042478</td>\n",
       "      <td>384.0</td>\n",
       "    </tr>\n",
       "    <tr>\n",
       "      <th>water</th>\n",
       "      <td>147.86</td>\n",
       "      <td>10.00</td>\n",
       "      <td>0.625000</td>\n",
       "      <td>0.000000</td>\n",
       "      <td>0.000</td>\n",
       "      <td>0.000000</td>\n",
       "      <td>0.0</td>\n",
       "    </tr>\n",
       "    <tr>\n",
       "      <th>oil</th>\n",
       "      <td>21.30</td>\n",
       "      <td>1.50</td>\n",
       "      <td>0.093750</td>\n",
       "      <td>0.141786</td>\n",
       "      <td>6.640</td>\n",
       "      <td>0.010677</td>\n",
       "      <td>191.7</td>\n",
       "    </tr>\n",
       "    <tr>\n",
       "      <th>sugar</th>\n",
       "      <td>6.00</td>\n",
       "      <td>0.50</td>\n",
       "      <td>0.031250</td>\n",
       "      <td>0.007260</td>\n",
       "      <td>1.095</td>\n",
       "      <td>0.003315</td>\n",
       "      <td>22.5</td>\n",
       "    </tr>\n",
       "    <tr>\n",
       "      <th>salt</th>\n",
       "      <td>2.70</td>\n",
       "      <td>0.15</td>\n",
       "      <td>0.009375</td>\n",
       "      <td>0.001649</td>\n",
       "      <td>0.225</td>\n",
       "      <td>0.003664</td>\n",
       "      <td>0.0</td>\n",
       "    </tr>\n",
       "    <tr>\n",
       "      <th>milk</th>\n",
       "      <td>7.00</td>\n",
       "      <td>1.00</td>\n",
       "      <td>0.062500</td>\n",
       "      <td>0.154108</td>\n",
       "      <td>9.995</td>\n",
       "      <td>0.007709</td>\n",
       "      <td>35.0</td>\n",
       "    </tr>\n",
       "    <tr>\n",
       "      <th>baking powder</th>\n",
       "      <td>9.36</td>\n",
       "      <td>0.65</td>\n",
       "      <td>0.040625</td>\n",
       "      <td>0.216656</td>\n",
       "      <td>3.935</td>\n",
       "      <td>0.027529</td>\n",
       "      <td>0.0</td>\n",
       "    </tr>\n",
       "    <tr>\n",
       "      <th>Total</th>\n",
       "      <td>290.22</td>\n",
       "      <td>25.80</td>\n",
       "      <td>1.612500</td>\n",
       "      <td>0.576256</td>\n",
       "      <td>22.535</td>\n",
       "      <td>0.095372</td>\n",
       "      <td>633.2</td>\n",
       "    </tr>\n",
       "  </tbody>\n",
       "</table>\n",
       "</div>"
      ],
      "text/plain": [
       "                grams   tbsp       cup      cost  unit_cost  unit_quantity  \\\n",
       "flour           96.00  12.00  0.750000  0.054796      0.645       0.042478   \n",
       "water          147.86  10.00  0.625000  0.000000      0.000       0.000000   \n",
       "oil             21.30   1.50  0.093750  0.141786      6.640       0.010677   \n",
       "sugar            6.00   0.50  0.031250  0.007260      1.095       0.003315   \n",
       "salt             2.70   0.15  0.009375  0.001649      0.225       0.003664   \n",
       "milk             7.00   1.00  0.062500  0.154108      9.995       0.007709   \n",
       "baking powder    9.36   0.65  0.040625  0.216656      3.935       0.027529   \n",
       "Total          290.22  25.80  1.612500  0.576256     22.535       0.095372   \n",
       "\n",
       "               calories  \n",
       "flour             384.0  \n",
       "water               0.0  \n",
       "oil               191.7  \n",
       "sugar              22.5  \n",
       "salt                0.0  \n",
       "milk               35.0  \n",
       "baking powder       0.0  \n",
       "Total             633.2  "
      ]
     },
     "execution_count": 4,
     "metadata": {},
     "output_type": "execute_result"
    }
   ],
   "source": [
    "pancakes / 2 # lets make a half recipe"
   ]
  },
  {
   "cell_type": "code",
   "execution_count": 5,
   "id": "9bac545f-b070-4737-a06e-4452b57affc2",
   "metadata": {
    "tags": []
   },
   "outputs": [
    {
     "data": {
      "text/plain": [
       "9.864"
      ]
     },
     "execution_count": 5,
     "metadata": {},
     "output_type": "execute_result"
    }
   ],
   "source": [
    "2466 / 250 # divid into 250 cal pieces"
   ]
  },
  {
   "cell_type": "code",
   "execution_count": 6,
   "id": "76306817-447a-4609-b832-979c579520f9",
   "metadata": {},
   "outputs": [
    {
     "data": {
      "text/html": [
       "<div>\n",
       "<style scoped>\n",
       "    .dataframe tbody tr th:only-of-type {\n",
       "        vertical-align: middle;\n",
       "    }\n",
       "\n",
       "    .dataframe tbody tr th {\n",
       "        vertical-align: top;\n",
       "    }\n",
       "\n",
       "    .dataframe thead th {\n",
       "        text-align: right;\n",
       "    }\n",
       "</style>\n",
       "<table border=\"1\" class=\"dataframe\">\n",
       "  <thead>\n",
       "    <tr style=\"text-align: right;\">\n",
       "      <th></th>\n",
       "      <th>grams</th>\n",
       "      <th>tbsp</th>\n",
       "      <th>cup</th>\n",
       "      <th>cost</th>\n",
       "      <th>unit_cost</th>\n",
       "      <th>unit_quantity</th>\n",
       "      <th>calories</th>\n",
       "    </tr>\n",
       "  </thead>\n",
       "  <tbody>\n",
       "    <tr>\n",
       "      <th>flour</th>\n",
       "      <td>192.00</td>\n",
       "      <td>24.0</td>\n",
       "      <td>1.50000</td>\n",
       "      <td>0.109593</td>\n",
       "      <td>1.29</td>\n",
       "      <td>0.084956</td>\n",
       "      <td>768.0</td>\n",
       "    </tr>\n",
       "    <tr>\n",
       "      <th>water</th>\n",
       "      <td>295.72</td>\n",
       "      <td>20.0</td>\n",
       "      <td>1.25000</td>\n",
       "      <td>0.000000</td>\n",
       "      <td>0.00</td>\n",
       "      <td>0.000000</td>\n",
       "      <td>0.0</td>\n",
       "    </tr>\n",
       "    <tr>\n",
       "      <th>oil</th>\n",
       "      <td>42.60</td>\n",
       "      <td>3.0</td>\n",
       "      <td>0.18750</td>\n",
       "      <td>0.283573</td>\n",
       "      <td>13.28</td>\n",
       "      <td>0.021353</td>\n",
       "      <td>383.4</td>\n",
       "    </tr>\n",
       "    <tr>\n",
       "      <th>sugar</th>\n",
       "      <td>12.00</td>\n",
       "      <td>1.0</td>\n",
       "      <td>0.06250</td>\n",
       "      <td>0.014519</td>\n",
       "      <td>2.19</td>\n",
       "      <td>0.006630</td>\n",
       "      <td>45.0</td>\n",
       "    </tr>\n",
       "    <tr>\n",
       "      <th>salt</th>\n",
       "      <td>5.40</td>\n",
       "      <td>0.3</td>\n",
       "      <td>0.01875</td>\n",
       "      <td>0.003297</td>\n",
       "      <td>0.45</td>\n",
       "      <td>0.007327</td>\n",
       "      <td>0.0</td>\n",
       "    </tr>\n",
       "    <tr>\n",
       "      <th>milk</th>\n",
       "      <td>14.00</td>\n",
       "      <td>2.0</td>\n",
       "      <td>0.12500</td>\n",
       "      <td>0.308216</td>\n",
       "      <td>19.99</td>\n",
       "      <td>0.015419</td>\n",
       "      <td>70.0</td>\n",
       "    </tr>\n",
       "    <tr>\n",
       "      <th>baking powder</th>\n",
       "      <td>18.72</td>\n",
       "      <td>1.3</td>\n",
       "      <td>0.08125</td>\n",
       "      <td>0.433313</td>\n",
       "      <td>7.87</td>\n",
       "      <td>0.055059</td>\n",
       "      <td>0.0</td>\n",
       "    </tr>\n",
       "    <tr>\n",
       "      <th>Total</th>\n",
       "      <td>580.44</td>\n",
       "      <td>51.6</td>\n",
       "      <td>3.22500</td>\n",
       "      <td>1.152511</td>\n",
       "      <td>45.07</td>\n",
       "      <td>0.190743</td>\n",
       "      <td>1266.4</td>\n",
       "    </tr>\n",
       "  </tbody>\n",
       "</table>\n",
       "</div>"
      ],
      "text/plain": [
       "                grams  tbsp      cup      cost  unit_cost  unit_quantity  \\\n",
       "flour          192.00  24.0  1.50000  0.109593       1.29       0.084956   \n",
       "water          295.72  20.0  1.25000  0.000000       0.00       0.000000   \n",
       "oil             42.60   3.0  0.18750  0.283573      13.28       0.021353   \n",
       "sugar           12.00   1.0  0.06250  0.014519       2.19       0.006630   \n",
       "salt             5.40   0.3  0.01875  0.003297       0.45       0.007327   \n",
       "milk            14.00   2.0  0.12500  0.308216      19.99       0.015419   \n",
       "baking powder   18.72   1.3  0.08125  0.433313       7.87       0.055059   \n",
       "Total          580.44  51.6  3.22500  1.152511      45.07       0.190743   \n",
       "\n",
       "               calories  \n",
       "flour             768.0  \n",
       "water               0.0  \n",
       "oil               383.4  \n",
       "sugar              45.0  \n",
       "salt                0.0  \n",
       "milk               70.0  \n",
       "baking powder       0.0  \n",
       "Total            1266.4  "
      ]
     },
     "execution_count": 6,
     "metadata": {},
     "output_type": "execute_result"
    }
   ],
   "source": [
    "pancakes"
   ]
  },
  {
   "cell_type": "code",
   "execution_count": null,
   "id": "82face67-0197-462e-b998-48d996f65d38",
   "metadata": {},
   "outputs": [],
   "source": []
  }
 ],
 "metadata": {
  "kernelspec": {
   "display_name": "Python 3 (ipykernel)",
   "language": "python",
   "name": "python3"
  },
  "language_info": {
   "codemirror_mode": {
    "name": "ipython",
    "version": 3
   },
   "file_extension": ".py",
   "mimetype": "text/x-python",
   "name": "python",
   "nbconvert_exporter": "python",
   "pygments_lexer": "ipython3",
   "version": "3.9.7"
  }
 },
 "nbformat": 4,
 "nbformat_minor": 5
}
