{
 "cells": [
  {
   "cell_type": "code",
   "execution_count": 1,
   "id": "48869a0e-7d33-42d8-9baa-a5ddaf58c68a",
   "metadata": {},
   "outputs": [],
   "source": [
    "import convert as c\n",
    "import pandas as pd"
   ]
  },
  {
   "cell_type": "markdown",
   "id": "c7c27c63-7279-4fac-aec6-5685aa95ab3d",
   "metadata": {
    "tags": []
   },
   "source": [
    "## Basic Bread"
   ]
  },
  {
   "cell_type": "markdown",
   "id": "8d9b3fd7-7479-4aec-b380-103f8d0315ba",
   "metadata": {},
   "source": [
    "Reference: https://www.youtube.com/watch?v=ycztOGTIX-s"
   ]
  },
  {
   "cell_type": "markdown",
   "id": "8b63da5c-62c7-46f7-a165-308618753353",
   "metadata": {},
   "source": [
    "### Ingredients (./configure)"
   ]
  },
  {
   "cell_type": "code",
   "execution_count": 2,
   "id": "766865cd-eda4-432a-b677-9515582989f9",
   "metadata": {},
   "outputs": [],
   "source": [
    "flour = c.flour(7,\"cups\")\n",
    "water = c.water(2.4,\"cups\")\n",
    "oil = c.oil(7,\"tbsp\")\n",
    "sugar = c.sugar(7,\"tbsp\")\n",
    "salt = c.salt(1,\"tbsp\")\n",
    "yeast = c.yeast(1,\"tbsp\")\n",
    "milk = c.milk(4,\"tbsp\")"
   ]
  },
  {
   "cell_type": "markdown",
   "id": "7b92d7ed-e564-4238-a605-b6deca6a75ca",
   "metadata": {},
   "source": [
    "### Combine Ingredients (make)"
   ]
  },
  {
   "cell_type": "code",
   "execution_count": 3,
   "id": "0c9b7433-665d-4c50-8559-64f60df576f8",
   "metadata": {},
   "outputs": [],
   "source": [
    "bread = pd.concat([flour,water,oil,sugar,salt,yeast,milk])\n",
    "bread.loc['Total'] = bread.sum()"
   ]
  },
  {
   "cell_type": "markdown",
   "id": "500bc981-c220-4a42-b329-210855c37b0a",
   "metadata": {},
   "source": [
    "### Deploy Bread"
   ]
  },
  {
   "cell_type": "markdown",
   "id": "f6c37221-a1bc-40cb-8103-f2ea4f3a2500",
   "metadata": {},
   "source": [
    "#### Set Constraints"
   ]
  },
  {
   "cell_type": "code",
   "execution_count": 4,
   "id": "75a048a2-3150-4387-840f-359b9f059d15",
   "metadata": {
    "tags": []
   },
   "outputs": [
    {
     "data": {
      "text/html": [
       "<div>\n",
       "<style scoped>\n",
       "    .dataframe tbody tr th:only-of-type {\n",
       "        vertical-align: middle;\n",
       "    }\n",
       "\n",
       "    .dataframe tbody tr th {\n",
       "        vertical-align: top;\n",
       "    }\n",
       "\n",
       "    .dataframe thead th {\n",
       "        text-align: right;\n",
       "    }\n",
       "</style>\n",
       "<table border=\"1\" class=\"dataframe\">\n",
       "  <thead>\n",
       "    <tr style=\"text-align: right;\">\n",
       "      <th></th>\n",
       "      <th>grams</th>\n",
       "      <th>tbsp</th>\n",
       "      <th>cup</th>\n",
       "      <th>cost</th>\n",
       "      <th>unit_cost</th>\n",
       "      <th>unit_quantity</th>\n",
       "      <th>calories</th>\n",
       "    </tr>\n",
       "  </thead>\n",
       "  <tbody>\n",
       "    <tr>\n",
       "      <th>flour</th>\n",
       "      <td>448.0000</td>\n",
       "      <td>56.0</td>\n",
       "      <td>3.50000</td>\n",
       "      <td>0.255717</td>\n",
       "      <td>0.645</td>\n",
       "      <td>0.198230</td>\n",
       "      <td>1792.0</td>\n",
       "    </tr>\n",
       "    <tr>\n",
       "      <th>water</th>\n",
       "      <td>283.8912</td>\n",
       "      <td>19.2</td>\n",
       "      <td>1.20000</td>\n",
       "      <td>0.000000</td>\n",
       "      <td>0.000</td>\n",
       "      <td>0.000000</td>\n",
       "      <td>0.0</td>\n",
       "    </tr>\n",
       "    <tr>\n",
       "      <th>oil</th>\n",
       "      <td>49.7000</td>\n",
       "      <td>3.5</td>\n",
       "      <td>0.21875</td>\n",
       "      <td>0.330835</td>\n",
       "      <td>6.640</td>\n",
       "      <td>0.024912</td>\n",
       "      <td>447.3</td>\n",
       "    </tr>\n",
       "    <tr>\n",
       "      <th>sugar</th>\n",
       "      <td>42.0000</td>\n",
       "      <td>3.5</td>\n",
       "      <td>0.21875</td>\n",
       "      <td>0.050818</td>\n",
       "      <td>1.095</td>\n",
       "      <td>0.023204</td>\n",
       "      <td>157.5</td>\n",
       "    </tr>\n",
       "    <tr>\n",
       "      <th>salt</th>\n",
       "      <td>9.0000</td>\n",
       "      <td>0.5</td>\n",
       "      <td>0.03125</td>\n",
       "      <td>0.005495</td>\n",
       "      <td>0.225</td>\n",
       "      <td>0.012212</td>\n",
       "      <td>0.0</td>\n",
       "    </tr>\n",
       "    <tr>\n",
       "      <th>yeast</th>\n",
       "      <td>4.5000</td>\n",
       "      <td>0.5</td>\n",
       "      <td>0.03125</td>\n",
       "      <td>0.039251</td>\n",
       "      <td>3.960</td>\n",
       "      <td>0.004956</td>\n",
       "      <td>0.0</td>\n",
       "    </tr>\n",
       "    <tr>\n",
       "      <th>milk</th>\n",
       "      <td>14.0000</td>\n",
       "      <td>2.0</td>\n",
       "      <td>0.12500</td>\n",
       "      <td>0.308216</td>\n",
       "      <td>9.995</td>\n",
       "      <td>0.015419</td>\n",
       "      <td>70.0</td>\n",
       "    </tr>\n",
       "    <tr>\n",
       "      <th>Total</th>\n",
       "      <td>851.0912</td>\n",
       "      <td>85.2</td>\n",
       "      <td>5.32500</td>\n",
       "      <td>0.990332</td>\n",
       "      <td>22.560</td>\n",
       "      <td>0.278933</td>\n",
       "      <td>2466.8</td>\n",
       "    </tr>\n",
       "  </tbody>\n",
       "</table>\n",
       "</div>"
      ],
      "text/plain": [
       "          grams  tbsp      cup      cost  unit_cost  unit_quantity  calories\n",
       "flour  448.0000  56.0  3.50000  0.255717      0.645       0.198230    1792.0\n",
       "water  283.8912  19.2  1.20000  0.000000      0.000       0.000000       0.0\n",
       "oil     49.7000   3.5  0.21875  0.330835      6.640       0.024912     447.3\n",
       "sugar   42.0000   3.5  0.21875  0.050818      1.095       0.023204     157.5\n",
       "salt     9.0000   0.5  0.03125  0.005495      0.225       0.012212       0.0\n",
       "yeast    4.5000   0.5  0.03125  0.039251      3.960       0.004956       0.0\n",
       "milk    14.0000   2.0  0.12500  0.308216      9.995       0.015419      70.0\n",
       "Total  851.0912  85.2  5.32500  0.990332     22.560       0.278933    2466.8"
      ]
     },
     "execution_count": 4,
     "metadata": {},
     "output_type": "execute_result"
    }
   ],
   "source": [
    "bread / 2 # lets make a half recipe"
   ]
  },
  {
   "cell_type": "code",
   "execution_count": 5,
   "id": "9bac545f-b070-4737-a06e-4452b57affc2",
   "metadata": {
    "tags": []
   },
   "outputs": [
    {
     "data": {
      "text/plain": [
       "9.864"
      ]
     },
     "execution_count": 5,
     "metadata": {},
     "output_type": "execute_result"
    }
   ],
   "source": [
    "2466 / 250 # divid into 250 cal pieces"
   ]
  },
  {
   "cell_type": "code",
   "execution_count": 6,
   "id": "76306817-447a-4609-b832-979c579520f9",
   "metadata": {},
   "outputs": [
    {
     "data": {
      "text/plain": [
       "85.1"
      ]
     },
     "execution_count": 6,
     "metadata": {},
     "output_type": "execute_result"
    }
   ],
   "source": [
    "851 / 10"
   ]
  },
  {
   "cell_type": "code",
   "execution_count": 7,
   "id": "30de85aa-80c1-4aab-8358-85f5cbf1b440",
   "metadata": {},
   "outputs": [
    {
     "data": {
      "text/html": [
       "<div>\n",
       "<style scoped>\n",
       "    .dataframe tbody tr th:only-of-type {\n",
       "        vertical-align: middle;\n",
       "    }\n",
       "\n",
       "    .dataframe tbody tr th {\n",
       "        vertical-align: top;\n",
       "    }\n",
       "\n",
       "    .dataframe thead th {\n",
       "        text-align: right;\n",
       "    }\n",
       "</style>\n",
       "<table border=\"1\" class=\"dataframe\">\n",
       "  <thead>\n",
       "    <tr style=\"text-align: right;\">\n",
       "      <th></th>\n",
       "      <th>grams</th>\n",
       "      <th>tbsp</th>\n",
       "      <th>cup</th>\n",
       "      <th>cost</th>\n",
       "      <th>unit_cost</th>\n",
       "      <th>unit_quantity</th>\n",
       "      <th>calories</th>\n",
       "      <th>bakers percentage</th>\n",
       "    </tr>\n",
       "  </thead>\n",
       "  <tbody>\n",
       "    <tr>\n",
       "      <th>flour</th>\n",
       "      <td>896.0000</td>\n",
       "      <td>112.0</td>\n",
       "      <td>7.0000</td>\n",
       "      <td>0.511434</td>\n",
       "      <td>1.29</td>\n",
       "      <td>0.396460</td>\n",
       "      <td>3584.0</td>\n",
       "      <td></td>\n",
       "    </tr>\n",
       "    <tr>\n",
       "      <th>water</th>\n",
       "      <td>567.7824</td>\n",
       "      <td>38.4</td>\n",
       "      <td>2.4000</td>\n",
       "      <td>0.000000</td>\n",
       "      <td>0.00</td>\n",
       "      <td>0.000000</td>\n",
       "      <td>0.0</td>\n",
       "      <td>63.368571</td>\n",
       "    </tr>\n",
       "    <tr>\n",
       "      <th>oil</th>\n",
       "      <td>99.4000</td>\n",
       "      <td>7.0</td>\n",
       "      <td>0.4375</td>\n",
       "      <td>0.661670</td>\n",
       "      <td>13.28</td>\n",
       "      <td>0.049825</td>\n",
       "      <td>894.6</td>\n",
       "      <td>11.09375</td>\n",
       "    </tr>\n",
       "    <tr>\n",
       "      <th>sugar</th>\n",
       "      <td>84.0000</td>\n",
       "      <td>7.0</td>\n",
       "      <td>0.4375</td>\n",
       "      <td>0.101635</td>\n",
       "      <td>2.19</td>\n",
       "      <td>0.046409</td>\n",
       "      <td>315.0</td>\n",
       "      <td></td>\n",
       "    </tr>\n",
       "    <tr>\n",
       "      <th>salt</th>\n",
       "      <td>18.0000</td>\n",
       "      <td>1.0</td>\n",
       "      <td>0.0625</td>\n",
       "      <td>0.010991</td>\n",
       "      <td>0.45</td>\n",
       "      <td>0.024423</td>\n",
       "      <td>0.0</td>\n",
       "      <td>2.008929</td>\n",
       "    </tr>\n",
       "    <tr>\n",
       "      <th>yeast</th>\n",
       "      <td>9.0000</td>\n",
       "      <td>1.0</td>\n",
       "      <td>0.0625</td>\n",
       "      <td>0.078502</td>\n",
       "      <td>7.92</td>\n",
       "      <td>0.009912</td>\n",
       "      <td>0.0</td>\n",
       "      <td>1.004464</td>\n",
       "    </tr>\n",
       "    <tr>\n",
       "      <th>milk</th>\n",
       "      <td>28.0000</td>\n",
       "      <td>4.0</td>\n",
       "      <td>0.2500</td>\n",
       "      <td>0.616432</td>\n",
       "      <td>19.99</td>\n",
       "      <td>0.030837</td>\n",
       "      <td>140.0</td>\n",
       "      <td></td>\n",
       "    </tr>\n",
       "    <tr>\n",
       "      <th>Total</th>\n",
       "      <td>1702.1824</td>\n",
       "      <td>170.4</td>\n",
       "      <td>10.6500</td>\n",
       "      <td>1.980664</td>\n",
       "      <td>45.12</td>\n",
       "      <td>0.557866</td>\n",
       "      <td>4933.6</td>\n",
       "      <td></td>\n",
       "    </tr>\n",
       "  </tbody>\n",
       "</table>\n",
       "</div>"
      ],
      "text/plain": [
       "           grams   tbsp      cup      cost  unit_cost  unit_quantity  \\\n",
       "flour   896.0000  112.0   7.0000  0.511434       1.29       0.396460   \n",
       "water   567.7824   38.4   2.4000  0.000000       0.00       0.000000   \n",
       "oil      99.4000    7.0   0.4375  0.661670      13.28       0.049825   \n",
       "sugar    84.0000    7.0   0.4375  0.101635       2.19       0.046409   \n",
       "salt     18.0000    1.0   0.0625  0.010991       0.45       0.024423   \n",
       "yeast     9.0000    1.0   0.0625  0.078502       7.92       0.009912   \n",
       "milk     28.0000    4.0   0.2500  0.616432      19.99       0.030837   \n",
       "Total  1702.1824  170.4  10.6500  1.980664      45.12       0.557866   \n",
       "\n",
       "       calories bakers percentage  \n",
       "flour    3584.0                    \n",
       "water       0.0         63.368571  \n",
       "oil       894.6          11.09375  \n",
       "sugar     315.0                    \n",
       "salt        0.0          2.008929  \n",
       "yeast       0.0          1.004464  \n",
       "milk      140.0                    \n",
       "Total    4933.6                    "
      ]
     },
     "execution_count": 7,
     "metadata": {},
     "output_type": "execute_result"
    }
   ],
   "source": [
    "import bakers_percentage as bp\n",
    "bp.calc(bread)"
   ]
  },
  {
   "cell_type": "code",
   "execution_count": null,
   "id": "09e0345f-650e-47ad-8733-c5b8ba19672f",
   "metadata": {},
   "outputs": [],
   "source": []
  }
 ],
 "metadata": {
  "kernelspec": {
   "display_name": "Python 3 (ipykernel)",
   "language": "python",
   "name": "python3"
  },
  "language_info": {
   "codemirror_mode": {
    "name": "ipython",
    "version": 3
   },
   "file_extension": ".py",
   "mimetype": "text/x-python",
   "name": "python",
   "nbconvert_exporter": "python",
   "pygments_lexer": "ipython3",
   "version": "3.9.7"
  }
 },
 "nbformat": 4,
 "nbformat_minor": 5
}
