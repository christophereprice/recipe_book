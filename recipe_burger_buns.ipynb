{
 "cells": [
  {
   "cell_type": "code",
   "execution_count": 1,
   "id": "48869a0e-7d33-42d8-9baa-a5ddaf58c68a",
   "metadata": {
    "tags": []
   },
   "outputs": [],
   "source": [
    "import convert as c\n",
    "import pandas as pd"
   ]
  },
  {
   "cell_type": "markdown",
   "id": "c7c27c63-7279-4fac-aec6-5685aa95ab3d",
   "metadata": {
    "tags": []
   },
   "source": [
    "## Beautiful Burger Buns"
   ]
  },
  {
   "cell_type": "markdown",
   "id": "8d9b3fd7-7479-4aec-b380-103f8d0315ba",
   "metadata": {},
   "source": [
    "Reference: https://www.kingarthurbaking.com/recipes/beautiful-burger-buns-recipe"
   ]
  },
  {
   "cell_type": "markdown",
   "id": "8b63da5c-62c7-46f7-a165-308618753353",
   "metadata": {
    "tags": []
   },
   "source": [
    "### Ingredients (./configure)"
   ]
  },
  {
   "cell_type": "code",
   "execution_count": 2,
   "id": "766865cd-eda4-432a-b677-9515582989f9",
   "metadata": {},
   "outputs": [],
   "source": [
    "flour = c.flour(420,\"grams\")\n",
    "water = c.water(227,\"grams\")\n",
    "oil = c.oil(28,\"grams\")\n",
    "sugar = c.sugar(50,\"grams\")\n",
    "salt = c.salt(1.5,\"grams\")\n",
    "yeast = c.yeast(9,\"grams\")"
   ]
  },
  {
   "cell_type": "markdown",
   "id": "7b92d7ed-e564-4238-a605-b6deca6a75ca",
   "metadata": {
    "tags": []
   },
   "source": [
    "### Combine Ingredients (make)"
   ]
  },
  {
   "cell_type": "code",
   "execution_count": 3,
   "id": "0c9b7433-665d-4c50-8559-64f60df576f8",
   "metadata": {
    "tags": []
   },
   "outputs": [],
   "source": [
    "buns = pd.concat([flour,water,oil,sugar,salt,yeast])\n",
    "buns.loc['Total'] = buns.sum()"
   ]
  },
  {
   "cell_type": "code",
   "execution_count": 4,
   "id": "d5c6c72a-8d01-4a34-8c0d-95829b87cb6d",
   "metadata": {
    "tags": []
   },
   "outputs": [
    {
     "data": {
      "text/html": [
       "<div>\n",
       "<style scoped>\n",
       "    .dataframe tbody tr th:only-of-type {\n",
       "        vertical-align: middle;\n",
       "    }\n",
       "\n",
       "    .dataframe tbody tr th {\n",
       "        vertical-align: top;\n",
       "    }\n",
       "\n",
       "    .dataframe thead th {\n",
       "        text-align: right;\n",
       "    }\n",
       "</style>\n",
       "<table border=\"1\" class=\"dataframe\">\n",
       "  <thead>\n",
       "    <tr style=\"text-align: right;\">\n",
       "      <th></th>\n",
       "      <th>grams</th>\n",
       "      <th>tbsp</th>\n",
       "      <th>cup</th>\n",
       "      <th>cost</th>\n",
       "      <th>unit_cost</th>\n",
       "      <th>unit_quantity</th>\n",
       "      <th>calories</th>\n",
       "    </tr>\n",
       "  </thead>\n",
       "  <tbody>\n",
       "    <tr>\n",
       "      <th>flour</th>\n",
       "      <td>420.0</td>\n",
       "      <td>52.500000</td>\n",
       "      <td>3.281250</td>\n",
       "      <td>0.239735</td>\n",
       "      <td>1.29</td>\n",
       "      <td>0.185841</td>\n",
       "      <td>1680.0</td>\n",
       "    </tr>\n",
       "    <tr>\n",
       "      <th>water</th>\n",
       "      <td>227.0</td>\n",
       "      <td>15.352360</td>\n",
       "      <td>0.959523</td>\n",
       "      <td>0.000000</td>\n",
       "      <td>0.00</td>\n",
       "      <td>0.000000</td>\n",
       "      <td>0.0</td>\n",
       "    </tr>\n",
       "    <tr>\n",
       "      <th>oil</th>\n",
       "      <td>28.0</td>\n",
       "      <td>1.971831</td>\n",
       "      <td>0.123239</td>\n",
       "      <td>0.186386</td>\n",
       "      <td>13.28</td>\n",
       "      <td>0.014035</td>\n",
       "      <td>252.0</td>\n",
       "    </tr>\n",
       "    <tr>\n",
       "      <th>sugar</th>\n",
       "      <td>50.0</td>\n",
       "      <td>4.166667</td>\n",
       "      <td>0.260417</td>\n",
       "      <td>0.060497</td>\n",
       "      <td>2.19</td>\n",
       "      <td>0.027624</td>\n",
       "      <td>187.5</td>\n",
       "    </tr>\n",
       "    <tr>\n",
       "      <th>salt</th>\n",
       "      <td>1.5</td>\n",
       "      <td>0.083333</td>\n",
       "      <td>0.005208</td>\n",
       "      <td>0.000916</td>\n",
       "      <td>0.45</td>\n",
       "      <td>0.002035</td>\n",
       "      <td>0.0</td>\n",
       "    </tr>\n",
       "    <tr>\n",
       "      <th>yeast</th>\n",
       "      <td>9.0</td>\n",
       "      <td>1.000000</td>\n",
       "      <td>0.031250</td>\n",
       "      <td>0.078502</td>\n",
       "      <td>7.92</td>\n",
       "      <td>0.009912</td>\n",
       "      <td>0.0</td>\n",
       "    </tr>\n",
       "    <tr>\n",
       "      <th>Total</th>\n",
       "      <td>735.5</td>\n",
       "      <td>75.074191</td>\n",
       "      <td>4.660887</td>\n",
       "      <td>0.566036</td>\n",
       "      <td>25.13</td>\n",
       "      <td>0.239447</td>\n",
       "      <td>2119.5</td>\n",
       "    </tr>\n",
       "  </tbody>\n",
       "</table>\n",
       "</div>"
      ],
      "text/plain": [
       "       grams       tbsp       cup      cost  unit_cost  unit_quantity  \\\n",
       "flour  420.0  52.500000  3.281250  0.239735       1.29       0.185841   \n",
       "water  227.0  15.352360  0.959523  0.000000       0.00       0.000000   \n",
       "oil     28.0   1.971831  0.123239  0.186386      13.28       0.014035   \n",
       "sugar   50.0   4.166667  0.260417  0.060497       2.19       0.027624   \n",
       "salt     1.5   0.083333  0.005208  0.000916       0.45       0.002035   \n",
       "yeast    9.0   1.000000  0.031250  0.078502       7.92       0.009912   \n",
       "Total  735.5  75.074191  4.660887  0.566036      25.13       0.239447   \n",
       "\n",
       "       calories  \n",
       "flour    1680.0  \n",
       "water       0.0  \n",
       "oil       252.0  \n",
       "sugar     187.5  \n",
       "salt        0.0  \n",
       "yeast       0.0  \n",
       "Total    2119.5  "
      ]
     },
     "execution_count": 4,
     "metadata": {},
     "output_type": "execute_result"
    }
   ],
   "source": [
    "buns"
   ]
  },
  {
   "cell_type": "markdown",
   "id": "500bc981-c220-4a42-b329-210855c37b0a",
   "metadata": {
    "tags": []
   },
   "source": [
    "### Deploy Buns"
   ]
  },
  {
   "cell_type": "markdown",
   "id": "f6c37221-a1bc-40cb-8103-f2ea4f3a2500",
   "metadata": {
    "tags": []
   },
   "source": [
    "#### Set Constraints"
   ]
  },
  {
   "cell_type": "code",
   "execution_count": 5,
   "id": "75a048a2-3150-4387-840f-359b9f059d15",
   "metadata": {
    "tags": []
   },
   "outputs": [
    {
     "data": {
      "text/html": [
       "<div>\n",
       "<style scoped>\n",
       "    .dataframe tbody tr th:only-of-type {\n",
       "        vertical-align: middle;\n",
       "    }\n",
       "\n",
       "    .dataframe tbody tr th {\n",
       "        vertical-align: top;\n",
       "    }\n",
       "\n",
       "    .dataframe thead th {\n",
       "        text-align: right;\n",
       "    }\n",
       "</style>\n",
       "<table border=\"1\" class=\"dataframe\">\n",
       "  <thead>\n",
       "    <tr style=\"text-align: right;\">\n",
       "      <th></th>\n",
       "      <th>grams</th>\n",
       "      <th>tbsp</th>\n",
       "      <th>cup</th>\n",
       "      <th>cost</th>\n",
       "      <th>unit_cost</th>\n",
       "      <th>unit_quantity</th>\n",
       "      <th>calories</th>\n",
       "    </tr>\n",
       "  </thead>\n",
       "  <tbody>\n",
       "    <tr>\n",
       "      <th>flour</th>\n",
       "      <td>210.00</td>\n",
       "      <td>26.250000</td>\n",
       "      <td>1.640625</td>\n",
       "      <td>0.119867</td>\n",
       "      <td>0.645</td>\n",
       "      <td>0.092920</td>\n",
       "      <td>840.00</td>\n",
       "    </tr>\n",
       "    <tr>\n",
       "      <th>water</th>\n",
       "      <td>113.50</td>\n",
       "      <td>7.676180</td>\n",
       "      <td>0.479761</td>\n",
       "      <td>0.000000</td>\n",
       "      <td>0.000</td>\n",
       "      <td>0.000000</td>\n",
       "      <td>0.00</td>\n",
       "    </tr>\n",
       "    <tr>\n",
       "      <th>oil</th>\n",
       "      <td>14.00</td>\n",
       "      <td>0.985915</td>\n",
       "      <td>0.061620</td>\n",
       "      <td>0.093193</td>\n",
       "      <td>6.640</td>\n",
       "      <td>0.007018</td>\n",
       "      <td>126.00</td>\n",
       "    </tr>\n",
       "    <tr>\n",
       "      <th>sugar</th>\n",
       "      <td>25.00</td>\n",
       "      <td>2.083333</td>\n",
       "      <td>0.130208</td>\n",
       "      <td>0.030249</td>\n",
       "      <td>1.095</td>\n",
       "      <td>0.013812</td>\n",
       "      <td>93.75</td>\n",
       "    </tr>\n",
       "    <tr>\n",
       "      <th>salt</th>\n",
       "      <td>0.75</td>\n",
       "      <td>0.041667</td>\n",
       "      <td>0.002604</td>\n",
       "      <td>0.000458</td>\n",
       "      <td>0.225</td>\n",
       "      <td>0.001018</td>\n",
       "      <td>0.00</td>\n",
       "    </tr>\n",
       "    <tr>\n",
       "      <th>yeast</th>\n",
       "      <td>4.50</td>\n",
       "      <td>0.500000</td>\n",
       "      <td>0.015625</td>\n",
       "      <td>0.039251</td>\n",
       "      <td>3.960</td>\n",
       "      <td>0.004956</td>\n",
       "      <td>0.00</td>\n",
       "    </tr>\n",
       "    <tr>\n",
       "      <th>Total</th>\n",
       "      <td>367.75</td>\n",
       "      <td>37.537096</td>\n",
       "      <td>2.330443</td>\n",
       "      <td>0.283018</td>\n",
       "      <td>12.565</td>\n",
       "      <td>0.119724</td>\n",
       "      <td>1059.75</td>\n",
       "    </tr>\n",
       "  </tbody>\n",
       "</table>\n",
       "</div>"
      ],
      "text/plain": [
       "        grams       tbsp       cup      cost  unit_cost  unit_quantity  \\\n",
       "flour  210.00  26.250000  1.640625  0.119867      0.645       0.092920   \n",
       "water  113.50   7.676180  0.479761  0.000000      0.000       0.000000   \n",
       "oil     14.00   0.985915  0.061620  0.093193      6.640       0.007018   \n",
       "sugar   25.00   2.083333  0.130208  0.030249      1.095       0.013812   \n",
       "salt     0.75   0.041667  0.002604  0.000458      0.225       0.001018   \n",
       "yeast    4.50   0.500000  0.015625  0.039251      3.960       0.004956   \n",
       "Total  367.75  37.537096  2.330443  0.283018     12.565       0.119724   \n",
       "\n",
       "       calories  \n",
       "flour    840.00  \n",
       "water      0.00  \n",
       "oil      126.00  \n",
       "sugar     93.75  \n",
       "salt       0.00  \n",
       "yeast      0.00  \n",
       "Total   1059.75  "
      ]
     },
     "execution_count": 5,
     "metadata": {},
     "output_type": "execute_result"
    }
   ],
   "source": [
    "buns / 2 # lets make a half recipe"
   ]
  },
  {
   "cell_type": "code",
   "execution_count": 6,
   "id": "9bac545f-b070-4737-a06e-4452b57affc2",
   "metadata": {
    "tags": []
   },
   "outputs": [
    {
     "data": {
      "text/plain": [
       "9.864"
      ]
     },
     "execution_count": 6,
     "metadata": {},
     "output_type": "execute_result"
    }
   ],
   "source": [
    "2466 / 250 # divid into 250 cal pieces"
   ]
  },
  {
   "cell_type": "code",
   "execution_count": 7,
   "id": "76306817-447a-4609-b832-979c579520f9",
   "metadata": {},
   "outputs": [
    {
     "data": {
      "text/plain": [
       "85.1"
      ]
     },
     "execution_count": 7,
     "metadata": {},
     "output_type": "execute_result"
    }
   ],
   "source": [
    "851 / 10"
   ]
  },
  {
   "cell_type": "code",
   "execution_count": null,
   "id": "09e0345f-650e-47ad-8733-c5b8ba19672f",
   "metadata": {},
   "outputs": [],
   "source": []
  },
  {
   "cell_type": "code",
   "execution_count": 8,
   "id": "052d286f-2257-4027-8f0c-7fb7a7022fb8",
   "metadata": {},
   "outputs": [
    {
     "data": {
      "text/plain": [
       "8.478"
      ]
     },
     "execution_count": 8,
     "metadata": {},
     "output_type": "execute_result"
    }
   ],
   "source": [
    "2119.5 / 250"
   ]
  },
  {
   "cell_type": "markdown",
   "id": "003b5991-4e6d-4901-b646-02216b49c403",
   "metadata": {},
   "source": [
    "### Bakers Percentage"
   ]
  },
  {
   "cell_type": "code",
   "execution_count": 9,
   "id": "30de85aa-80c1-4aab-8358-85f5cbf1b440",
   "metadata": {},
   "outputs": [
    {
     "data": {
      "text/html": [
       "<div>\n",
       "<style scoped>\n",
       "    .dataframe tbody tr th:only-of-type {\n",
       "        vertical-align: middle;\n",
       "    }\n",
       "\n",
       "    .dataframe tbody tr th {\n",
       "        vertical-align: top;\n",
       "    }\n",
       "\n",
       "    .dataframe thead th {\n",
       "        text-align: right;\n",
       "    }\n",
       "</style>\n",
       "<table border=\"1\" class=\"dataframe\">\n",
       "  <thead>\n",
       "    <tr style=\"text-align: right;\">\n",
       "      <th></th>\n",
       "      <th>grams</th>\n",
       "      <th>tbsp</th>\n",
       "      <th>cup</th>\n",
       "      <th>cost</th>\n",
       "      <th>unit_cost</th>\n",
       "      <th>unit_quantity</th>\n",
       "      <th>calories</th>\n",
       "      <th>bakers percentage</th>\n",
       "    </tr>\n",
       "  </thead>\n",
       "  <tbody>\n",
       "    <tr>\n",
       "      <th>flour</th>\n",
       "      <td>420.0</td>\n",
       "      <td>52.500000</td>\n",
       "      <td>3.281250</td>\n",
       "      <td>0.239735</td>\n",
       "      <td>1.29</td>\n",
       "      <td>0.185841</td>\n",
       "      <td>1680.0</td>\n",
       "      <td></td>\n",
       "    </tr>\n",
       "    <tr>\n",
       "      <th>water</th>\n",
       "      <td>227.0</td>\n",
       "      <td>15.352360</td>\n",
       "      <td>0.959523</td>\n",
       "      <td>0.000000</td>\n",
       "      <td>0.00</td>\n",
       "      <td>0.000000</td>\n",
       "      <td>0.0</td>\n",
       "      <td>54.047619</td>\n",
       "    </tr>\n",
       "    <tr>\n",
       "      <th>oil</th>\n",
       "      <td>28.0</td>\n",
       "      <td>1.971831</td>\n",
       "      <td>0.123239</td>\n",
       "      <td>0.186386</td>\n",
       "      <td>13.28</td>\n",
       "      <td>0.014035</td>\n",
       "      <td>252.0</td>\n",
       "      <td>6.666667</td>\n",
       "    </tr>\n",
       "    <tr>\n",
       "      <th>sugar</th>\n",
       "      <td>50.0</td>\n",
       "      <td>4.166667</td>\n",
       "      <td>0.260417</td>\n",
       "      <td>0.060497</td>\n",
       "      <td>2.19</td>\n",
       "      <td>0.027624</td>\n",
       "      <td>187.5</td>\n",
       "      <td></td>\n",
       "    </tr>\n",
       "    <tr>\n",
       "      <th>salt</th>\n",
       "      <td>1.5</td>\n",
       "      <td>0.083333</td>\n",
       "      <td>0.005208</td>\n",
       "      <td>0.000916</td>\n",
       "      <td>0.45</td>\n",
       "      <td>0.002035</td>\n",
       "      <td>0.0</td>\n",
       "      <td>0.357143</td>\n",
       "    </tr>\n",
       "    <tr>\n",
       "      <th>yeast</th>\n",
       "      <td>9.0</td>\n",
       "      <td>1.000000</td>\n",
       "      <td>0.031250</td>\n",
       "      <td>0.078502</td>\n",
       "      <td>7.92</td>\n",
       "      <td>0.009912</td>\n",
       "      <td>0.0</td>\n",
       "      <td>2.142857</td>\n",
       "    </tr>\n",
       "    <tr>\n",
       "      <th>Total</th>\n",
       "      <td>735.5</td>\n",
       "      <td>75.074191</td>\n",
       "      <td>4.660887</td>\n",
       "      <td>0.566036</td>\n",
       "      <td>25.13</td>\n",
       "      <td>0.239447</td>\n",
       "      <td>2119.5</td>\n",
       "      <td></td>\n",
       "    </tr>\n",
       "  </tbody>\n",
       "</table>\n",
       "</div>"
      ],
      "text/plain": [
       "       grams       tbsp       cup      cost  unit_cost  unit_quantity  \\\n",
       "flour  420.0  52.500000  3.281250  0.239735       1.29       0.185841   \n",
       "water  227.0  15.352360  0.959523  0.000000       0.00       0.000000   \n",
       "oil     28.0   1.971831  0.123239  0.186386      13.28       0.014035   \n",
       "sugar   50.0   4.166667  0.260417  0.060497       2.19       0.027624   \n",
       "salt     1.5   0.083333  0.005208  0.000916       0.45       0.002035   \n",
       "yeast    9.0   1.000000  0.031250  0.078502       7.92       0.009912   \n",
       "Total  735.5  75.074191  4.660887  0.566036      25.13       0.239447   \n",
       "\n",
       "       calories bakers percentage  \n",
       "flour    1680.0                    \n",
       "water       0.0         54.047619  \n",
       "oil       252.0          6.666667  \n",
       "sugar     187.5                    \n",
       "salt        0.0          0.357143  \n",
       "yeast       0.0          2.142857  \n",
       "Total    2119.5                    "
      ]
     },
     "execution_count": 9,
     "metadata": {},
     "output_type": "execute_result"
    }
   ],
   "source": [
    "import bakers_percentage as bp\n",
    "bp.calc(buns)"
   ]
  },
  {
   "cell_type": "code",
   "execution_count": null,
   "id": "b6fd9cce-6070-43b1-9685-72d4968afdac",
   "metadata": {},
   "outputs": [],
   "source": []
  },
  {
   "cell_type": "code",
   "execution_count": null,
   "id": "fff4a0e3-2f04-45cf-b619-464999c45778",
   "metadata": {},
   "outputs": [],
   "source": []
  }
 ],
 "metadata": {
  "kernelspec": {
   "display_name": "Python 3 (ipykernel)",
   "language": "python",
   "name": "python3"
  },
  "language_info": {
   "codemirror_mode": {
    "name": "ipython",
    "version": 3
   },
   "file_extension": ".py",
   "mimetype": "text/x-python",
   "name": "python",
   "nbconvert_exporter": "python",
   "pygments_lexer": "ipython3",
   "version": "3.9.7"
  }
 },
 "nbformat": 4,
 "nbformat_minor": 5
}
