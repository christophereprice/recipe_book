{
 "cells": [
  {
   "cell_type": "code",
   "execution_count": 1,
   "id": "48869a0e-7d33-42d8-9baa-a5ddaf58c68a",
   "metadata": {},
   "outputs": [],
   "source": [
    "import convert as c\n",
    "import pandas as pd"
   ]
  },
  {
   "cell_type": "markdown",
   "id": "c7c27c63-7279-4fac-aec6-5685aa95ab3d",
   "metadata": {
    "tags": []
   },
   "source": [
    "## Basic Bread"
   ]
  },
  {
   "cell_type": "markdown",
   "id": "8d9b3fd7-7479-4aec-b380-103f8d0315ba",
   "metadata": {},
   "source": [
    "Reference: https://www.youtube.com/watch?v=ycztOGTIX-s"
   ]
  },
  {
   "cell_type": "markdown",
   "id": "8b63da5c-62c7-46f7-a165-308618753353",
   "metadata": {},
   "source": [
    "### Ingredients (./configure)"
   ]
  },
  {
   "cell_type": "code",
   "execution_count": 10,
   "id": "766865cd-eda4-432a-b677-9515582989f9",
   "metadata": {},
   "outputs": [],
   "source": [
    "flour = c.flour(7,\"cups\")\n",
    "water = c.water(2.9,\"cups\")\n",
    "oil = c.oil(5,\"tbsp\")\n",
    "sugar = c.sugar(5,\"tbsp\")\n",
    "salt = c.salt(1,\"tbsp\")\n",
    "yeast = c.yeast(1,\"tbsp\")\n",
    "# milk = c.milk(4,\"tbsp\") # removing milk"
   ]
  },
  {
   "cell_type": "markdown",
   "id": "7b92d7ed-e564-4238-a605-b6deca6a75ca",
   "metadata": {},
   "source": [
    "### Combine Ingredients (make)"
   ]
  },
  {
   "cell_type": "code",
   "execution_count": 11,
   "id": "0c9b7433-665d-4c50-8559-64f60df576f8",
   "metadata": {},
   "outputs": [],
   "source": [
    "bread = pd.concat([flour,water,oil,sugar,salt,yeast])\n",
    "bread.loc['Total'] = bread.sum()"
   ]
  },
  {
   "cell_type": "markdown",
   "id": "500bc981-c220-4a42-b329-210855c37b0a",
   "metadata": {},
   "source": [
    "### Deploy Bread"
   ]
  },
  {
   "cell_type": "markdown",
   "id": "f6c37221-a1bc-40cb-8103-f2ea4f3a2500",
   "metadata": {},
   "source": [
    "#### Set Constraints"
   ]
  },
  {
   "cell_type": "code",
   "execution_count": 12,
   "id": "75a048a2-3150-4387-840f-359b9f059d15",
   "metadata": {
    "tags": []
   },
   "outputs": [],
   "source": [
    "half = bread / 2 # lets make a half recipe"
   ]
  },
  {
   "cell_type": "code",
   "execution_count": 13,
   "id": "9bac545f-b070-4737-a06e-4452b57affc2",
   "metadata": {
    "tags": []
   },
   "outputs": [
    {
     "data": {
      "text/plain": [
       "9.864"
      ]
     },
     "execution_count": 13,
     "metadata": {},
     "output_type": "execute_result"
    }
   ],
   "source": [
    "2466 / 250 # divid into 250 cal pieces"
   ]
  },
  {
   "cell_type": "code",
   "execution_count": 14,
   "id": "76306817-447a-4609-b832-979c579520f9",
   "metadata": {},
   "outputs": [
    {
     "data": {
      "text/plain": [
       "85.1"
      ]
     },
     "execution_count": 14,
     "metadata": {},
     "output_type": "execute_result"
    }
   ],
   "source": [
    "851 / 10"
   ]
  },
  {
   "cell_type": "code",
   "execution_count": 15,
   "id": "30de85aa-80c1-4aab-8358-85f5cbf1b440",
   "metadata": {},
   "outputs": [
    {
     "data": {
      "text/html": [
       "<div>\n",
       "<style scoped>\n",
       "    .dataframe tbody tr th:only-of-type {\n",
       "        vertical-align: middle;\n",
       "    }\n",
       "\n",
       "    .dataframe tbody tr th {\n",
       "        vertical-align: top;\n",
       "    }\n",
       "\n",
       "    .dataframe thead th {\n",
       "        text-align: right;\n",
       "    }\n",
       "</style>\n",
       "<table border=\"1\" class=\"dataframe\">\n",
       "  <thead>\n",
       "    <tr style=\"text-align: right;\">\n",
       "      <th></th>\n",
       "      <th>grams</th>\n",
       "      <th>tbsp</th>\n",
       "      <th>cup</th>\n",
       "      <th>cost</th>\n",
       "      <th>unit_cost</th>\n",
       "      <th>unit_quantity</th>\n",
       "      <th>calories</th>\n",
       "      <th>bakers percentage</th>\n",
       "    </tr>\n",
       "  </thead>\n",
       "  <tbody>\n",
       "    <tr>\n",
       "      <th>flour</th>\n",
       "      <td>448.0000</td>\n",
       "      <td>56.0</td>\n",
       "      <td>3.50000</td>\n",
       "      <td>0.255717</td>\n",
       "      <td>0.645</td>\n",
       "      <td>0.198230</td>\n",
       "      <td>1792.0</td>\n",
       "      <td></td>\n",
       "    </tr>\n",
       "    <tr>\n",
       "      <th>water</th>\n",
       "      <td>343.0352</td>\n",
       "      <td>23.2</td>\n",
       "      <td>1.45000</td>\n",
       "      <td>0.000000</td>\n",
       "      <td>0.000</td>\n",
       "      <td>0.000000</td>\n",
       "      <td>0.0</td>\n",
       "      <td>76.570357</td>\n",
       "    </tr>\n",
       "    <tr>\n",
       "      <th>oil</th>\n",
       "      <td>35.5000</td>\n",
       "      <td>2.5</td>\n",
       "      <td>0.15625</td>\n",
       "      <td>0.236311</td>\n",
       "      <td>6.640</td>\n",
       "      <td>0.017794</td>\n",
       "      <td>319.5</td>\n",
       "      <td>7.924107</td>\n",
       "    </tr>\n",
       "    <tr>\n",
       "      <th>sugar</th>\n",
       "      <td>30.0000</td>\n",
       "      <td>2.5</td>\n",
       "      <td>0.15625</td>\n",
       "      <td>0.036298</td>\n",
       "      <td>1.095</td>\n",
       "      <td>0.016575</td>\n",
       "      <td>112.5</td>\n",
       "      <td></td>\n",
       "    </tr>\n",
       "    <tr>\n",
       "      <th>salt</th>\n",
       "      <td>9.0000</td>\n",
       "      <td>0.5</td>\n",
       "      <td>0.03125</td>\n",
       "      <td>0.005495</td>\n",
       "      <td>0.225</td>\n",
       "      <td>0.012212</td>\n",
       "      <td>0.0</td>\n",
       "      <td>2.008929</td>\n",
       "    </tr>\n",
       "    <tr>\n",
       "      <th>yeast</th>\n",
       "      <td>4.5000</td>\n",
       "      <td>0.5</td>\n",
       "      <td>0.03125</td>\n",
       "      <td>0.039251</td>\n",
       "      <td>3.960</td>\n",
       "      <td>0.004956</td>\n",
       "      <td>0.0</td>\n",
       "      <td>1.004464</td>\n",
       "    </tr>\n",
       "    <tr>\n",
       "      <th>Total</th>\n",
       "      <td>870.0352</td>\n",
       "      <td>85.2</td>\n",
       "      <td>5.32500</td>\n",
       "      <td>0.573072</td>\n",
       "      <td>12.565</td>\n",
       "      <td>0.249767</td>\n",
       "      <td>2224.0</td>\n",
       "      <td></td>\n",
       "    </tr>\n",
       "  </tbody>\n",
       "</table>\n",
       "</div>"
      ],
      "text/plain": [
       "          grams  tbsp      cup      cost  unit_cost  unit_quantity  calories  \\\n",
       "flour  448.0000  56.0  3.50000  0.255717      0.645       0.198230    1792.0   \n",
       "water  343.0352  23.2  1.45000  0.000000      0.000       0.000000       0.0   \n",
       "oil     35.5000   2.5  0.15625  0.236311      6.640       0.017794     319.5   \n",
       "sugar   30.0000   2.5  0.15625  0.036298      1.095       0.016575     112.5   \n",
       "salt     9.0000   0.5  0.03125  0.005495      0.225       0.012212       0.0   \n",
       "yeast    4.5000   0.5  0.03125  0.039251      3.960       0.004956       0.0   \n",
       "Total  870.0352  85.2  5.32500  0.573072     12.565       0.249767    2224.0   \n",
       "\n",
       "      bakers percentage  \n",
       "flour                    \n",
       "water         76.570357  \n",
       "oil            7.924107  \n",
       "sugar                    \n",
       "salt           2.008929  \n",
       "yeast          1.004464  \n",
       "Total                    "
      ]
     },
     "execution_count": 15,
     "metadata": {},
     "output_type": "execute_result"
    }
   ],
   "source": [
    "import bakers_percentage as bp\n",
    "bp.calc(half)"
   ]
  },
  {
   "cell_type": "code",
   "execution_count": null,
   "id": "0e58e8d4-7c0c-409c-8a41-e1363676df98",
   "metadata": {},
   "outputs": [],
   "source": []
  },
  {
   "cell_type": "code",
   "execution_count": null,
   "id": "76979ffc-931d-4d86-8008-9f10b51c317b",
   "metadata": {},
   "outputs": [],
   "source": []
  },
  {
   "cell_type": "code",
   "execution_count": null,
   "id": "f7965e98-dc97-4949-9058-e36e4cee123f",
   "metadata": {},
   "outputs": [],
   "source": []
  }
 ],
 "metadata": {
  "kernelspec": {
   "display_name": "Python 3 (ipykernel)",
   "language": "python",
   "name": "python3"
  },
  "language_info": {
   "codemirror_mode": {
    "name": "ipython",
    "version": 3
   },
   "file_extension": ".py",
   "mimetype": "text/x-python",
   "name": "python",
   "nbconvert_exporter": "python",
   "pygments_lexer": "ipython3",
   "version": "3.9.7"
  }
 },
 "nbformat": 4,
 "nbformat_minor": 5
}
