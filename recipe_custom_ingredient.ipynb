{
 "cells": [
  {
   "cell_type": "code",
   "execution_count": 9,
   "id": "e84755bb-9c31-435b-adac-6fad41e07829",
   "metadata": {},
   "outputs": [],
   "source": [
    "import convert as c\n",
    "import pandas as pd"
   ]
  },
  {
   "cell_type": "code",
   "execution_count": 10,
   "id": "1e61b60f-3c17-4ece-91d6-af3f6795f5c2",
   "metadata": {},
   "outputs": [],
   "source": [
    "name = \"flour\"\n",
    "grams = 2260 # How much does the recipe call for in grams?\n",
    "grams_in_tbsp = 8 # How many grams are in a tablespoon?\n",
    "unit_cost = 1.29 # Total cost of a single packaged item?\n",
    "unit_size_grams = 2260 # Total size of packaged item in grams\n",
    "calories = 4 # calories of item in grams"
   ]
  },
  {
   "cell_type": "code",
   "execution_count": 11,
   "id": "b7cb6f20-7cce-4fba-8c96-be296312bd13",
   "metadata": {},
   "outputs": [
    {
     "data": {
      "text/html": [
       "<div>\n",
       "<style scoped>\n",
       "    .dataframe tbody tr th:only-of-type {\n",
       "        vertical-align: middle;\n",
       "    }\n",
       "\n",
       "    .dataframe tbody tr th {\n",
       "        vertical-align: top;\n",
       "    }\n",
       "\n",
       "    .dataframe thead th {\n",
       "        text-align: right;\n",
       "    }\n",
       "</style>\n",
       "<table border=\"1\" class=\"dataframe\">\n",
       "  <thead>\n",
       "    <tr style=\"text-align: right;\">\n",
       "      <th></th>\n",
       "      <th>grams</th>\n",
       "      <th>tbsp</th>\n",
       "      <th>cup</th>\n",
       "      <th>cost</th>\n",
       "      <th>unit_cost</th>\n",
       "      <th>unit_quantity</th>\n",
       "      <th>calories</th>\n",
       "    </tr>\n",
       "  </thead>\n",
       "  <tbody>\n",
       "    <tr>\n",
       "      <th>flour</th>\n",
       "      <td>2260</td>\n",
       "      <td>282.5</td>\n",
       "      <td>17.65625</td>\n",
       "      <td>1.29</td>\n",
       "      <td>1.29</td>\n",
       "      <td>1.0</td>\n",
       "      <td>9040</td>\n",
       "    </tr>\n",
       "  </tbody>\n",
       "</table>\n",
       "</div>"
      ],
      "text/plain": [
       "       grams   tbsp       cup  cost  unit_cost  unit_quantity  calories\n",
       "flour   2260  282.5  17.65625  1.29       1.29            1.0      9040"
      ]
     },
     "execution_count": 11,
     "metadata": {},
     "output_type": "execute_result"
    }
   ],
   "source": [
    "flour = c.ingredient(name,grams,grams_in_tbsp,unit_cost,unit_size_grams,calories)\n",
    "flour"
   ]
  },
  {
   "cell_type": "code",
   "execution_count": null,
   "id": "edb0f144-d3c2-407a-93ce-af6ed74b8ce9",
   "metadata": {},
   "outputs": [],
   "source": []
  },
  {
   "cell_type": "code",
   "execution_count": 13,
   "id": "553a865a-289c-41a8-a2c9-2842c52fc270",
   "metadata": {},
   "outputs": [
    {
     "data": {
      "text/html": [
       "<div>\n",
       "<style scoped>\n",
       "    .dataframe tbody tr th:only-of-type {\n",
       "        vertical-align: middle;\n",
       "    }\n",
       "\n",
       "    .dataframe tbody tr th {\n",
       "        vertical-align: top;\n",
       "    }\n",
       "\n",
       "    .dataframe thead th {\n",
       "        text-align: right;\n",
       "    }\n",
       "</style>\n",
       "<table border=\"1\" class=\"dataframe\">\n",
       "  <thead>\n",
       "    <tr style=\"text-align: right;\">\n",
       "      <th></th>\n",
       "      <th>grams</th>\n",
       "      <th>tbsp</th>\n",
       "      <th>cup</th>\n",
       "      <th>cost</th>\n",
       "      <th>unit_cost</th>\n",
       "      <th>unit_quantity</th>\n",
       "      <th>calories</th>\n",
       "    </tr>\n",
       "  </thead>\n",
       "  <tbody>\n",
       "    <tr>\n",
       "      <th>flour</th>\n",
       "      <td>2260</td>\n",
       "      <td>282.5</td>\n",
       "      <td>17.65625</td>\n",
       "      <td>1.29</td>\n",
       "      <td>1.29</td>\n",
       "      <td>1.0</td>\n",
       "      <td>9040</td>\n",
       "    </tr>\n",
       "  </tbody>\n",
       "</table>\n",
       "</div>"
      ],
      "text/plain": [
       "       grams   tbsp       cup  cost  unit_cost  unit_quantity  calories\n",
       "flour   2260  282.5  17.65625  1.29       1.29            1.0      9040"
      ]
     },
     "execution_count": 13,
     "metadata": {},
     "output_type": "execute_result"
    }
   ],
   "source": [
    "flour = c.flour(2260,\"grams\")\n",
    "flour"
   ]
  },
  {
   "cell_type": "code",
   "execution_count": null,
   "id": "1893f0f0-71af-41d2-a272-3fb489c90bda",
   "metadata": {},
   "outputs": [],
   "source": []
  },
  {
   "cell_type": "code",
   "execution_count": null,
   "id": "dc3ba2a1-fdd9-437b-9313-4e98e8cf9217",
   "metadata": {},
   "outputs": [],
   "source": []
  }
 ],
 "metadata": {
  "kernelspec": {
   "display_name": "Python 3 (ipykernel)",
   "language": "python",
   "name": "python3"
  },
  "language_info": {
   "codemirror_mode": {
    "name": "ipython",
    "version": 3
   },
   "file_extension": ".py",
   "mimetype": "text/x-python",
   "name": "python",
   "nbconvert_exporter": "python",
   "pygments_lexer": "ipython3",
   "version": "3.9.7"
  }
 },
 "nbformat": 4,
 "nbformat_minor": 5
}
