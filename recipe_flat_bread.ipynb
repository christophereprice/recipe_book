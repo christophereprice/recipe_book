{
 "cells": [
  {
   "cell_type": "code",
   "execution_count": 2,
   "id": "48869a0e-7d33-42d8-9baa-a5ddaf58c68a",
   "metadata": {},
   "outputs": [],
   "source": [
    "import convert as c\n",
    "import pandas as pd"
   ]
  },
  {
   "cell_type": "markdown",
   "id": "c7c27c63-7279-4fac-aec6-5685aa95ab3d",
   "metadata": {
    "tags": []
   },
   "source": [
    "## Basic Flat Bread"
   ]
  },
  {
   "cell_type": "markdown",
   "id": "8d9b3fd7-7479-4aec-b380-103f8d0315ba",
   "metadata": {},
   "source": [
    "Reference: https://www.kingarthurbaking.com/recipes/skillet-flatbreads-recipe"
   ]
  },
  {
   "cell_type": "markdown",
   "id": "8b63da5c-62c7-46f7-a165-308618753353",
   "metadata": {},
   "source": [
    "### Ingredients (./configure)"
   ]
  },
  {
   "cell_type": "code",
   "execution_count": 10,
   "id": "766865cd-eda4-432a-b677-9515582989f9",
   "metadata": {},
   "outputs": [],
   "source": [
    "flour = c.flour(360,\"grams\")\n",
    "water = c.water(227,\"grams\")\n",
    "oil = c.oil(35,\"grams\")\n",
    "salt = c.salt(0.5,\"tbsp\")\n",
    "baking_powder = c.baking_powder(0.666,\"tbsp\")"
   ]
  },
  {
   "cell_type": "markdown",
   "id": "7b92d7ed-e564-4238-a605-b6deca6a75ca",
   "metadata": {},
   "source": [
    "### Combine Ingredients (make)"
   ]
  },
  {
   "cell_type": "code",
   "execution_count": 11,
   "id": "0c9b7433-665d-4c50-8559-64f60df576f8",
   "metadata": {},
   "outputs": [
    {
     "data": {
      "text/html": [
       "<div>\n",
       "<style scoped>\n",
       "    .dataframe tbody tr th:only-of-type {\n",
       "        vertical-align: middle;\n",
       "    }\n",
       "\n",
       "    .dataframe tbody tr th {\n",
       "        vertical-align: top;\n",
       "    }\n",
       "\n",
       "    .dataframe thead th {\n",
       "        text-align: right;\n",
       "    }\n",
       "</style>\n",
       "<table border=\"1\" class=\"dataframe\">\n",
       "  <thead>\n",
       "    <tr style=\"text-align: right;\">\n",
       "      <th></th>\n",
       "      <th>grams</th>\n",
       "      <th>tbsp</th>\n",
       "      <th>cup</th>\n",
       "      <th>cost</th>\n",
       "      <th>unit_cost</th>\n",
       "      <th>unit_quantity</th>\n",
       "      <th>calories</th>\n",
       "    </tr>\n",
       "  </thead>\n",
       "  <tbody>\n",
       "    <tr>\n",
       "      <th>flour</th>\n",
       "      <td>360.0000</td>\n",
       "      <td>45.000000</td>\n",
       "      <td>2.812500</td>\n",
       "      <td>0.205487</td>\n",
       "      <td>1.29</td>\n",
       "      <td>0.159292</td>\n",
       "      <td>1440.0</td>\n",
       "    </tr>\n",
       "    <tr>\n",
       "      <th>water</th>\n",
       "      <td>227.0000</td>\n",
       "      <td>15.352360</td>\n",
       "      <td>0.959523</td>\n",
       "      <td>0.000000</td>\n",
       "      <td>0.00</td>\n",
       "      <td>0.000000</td>\n",
       "      <td>0.0</td>\n",
       "    </tr>\n",
       "    <tr>\n",
       "      <th>oil</th>\n",
       "      <td>35.0000</td>\n",
       "      <td>2.464789</td>\n",
       "      <td>0.154049</td>\n",
       "      <td>0.232982</td>\n",
       "      <td>13.28</td>\n",
       "      <td>0.017544</td>\n",
       "      <td>315.0</td>\n",
       "    </tr>\n",
       "    <tr>\n",
       "      <th>salt</th>\n",
       "      <td>9.0000</td>\n",
       "      <td>0.500000</td>\n",
       "      <td>0.031250</td>\n",
       "      <td>0.005495</td>\n",
       "      <td>0.45</td>\n",
       "      <td>0.012212</td>\n",
       "      <td>0.0</td>\n",
       "    </tr>\n",
       "    <tr>\n",
       "      <th>baking powder</th>\n",
       "      <td>9.5904</td>\n",
       "      <td>0.666000</td>\n",
       "      <td>0.041625</td>\n",
       "      <td>0.221990</td>\n",
       "      <td>7.87</td>\n",
       "      <td>0.028207</td>\n",
       "      <td>0.0</td>\n",
       "    </tr>\n",
       "    <tr>\n",
       "      <th>Total</th>\n",
       "      <td>640.5904</td>\n",
       "      <td>63.983149</td>\n",
       "      <td>3.998947</td>\n",
       "      <td>0.665954</td>\n",
       "      <td>22.89</td>\n",
       "      <td>0.217255</td>\n",
       "      <td>1755.0</td>\n",
       "    </tr>\n",
       "  </tbody>\n",
       "</table>\n",
       "</div>"
      ],
      "text/plain": [
       "                  grams       tbsp       cup      cost  unit_cost  \\\n",
       "flour          360.0000  45.000000  2.812500  0.205487       1.29   \n",
       "water          227.0000  15.352360  0.959523  0.000000       0.00   \n",
       "oil             35.0000   2.464789  0.154049  0.232982      13.28   \n",
       "salt             9.0000   0.500000  0.031250  0.005495       0.45   \n",
       "baking powder    9.5904   0.666000  0.041625  0.221990       7.87   \n",
       "Total          640.5904  63.983149  3.998947  0.665954      22.89   \n",
       "\n",
       "               unit_quantity  calories  \n",
       "flour               0.159292    1440.0  \n",
       "water               0.000000       0.0  \n",
       "oil                 0.017544     315.0  \n",
       "salt                0.012212       0.0  \n",
       "baking powder       0.028207       0.0  \n",
       "Total               0.217255    1755.0  "
      ]
     },
     "execution_count": 11,
     "metadata": {},
     "output_type": "execute_result"
    }
   ],
   "source": [
    "bread = pd.concat([flour,water,oil,salt,baking_powder])\n",
    "bread.loc['Total'] = bread.sum()\n",
    "bread"
   ]
  },
  {
   "cell_type": "markdown",
   "id": "500bc981-c220-4a42-b329-210855c37b0a",
   "metadata": {},
   "source": [
    "### Deploy Bread"
   ]
  },
  {
   "cell_type": "markdown",
   "id": "f6c37221-a1bc-40cb-8103-f2ea4f3a2500",
   "metadata": {},
   "source": [
    "#### Set Constraints"
   ]
  },
  {
   "cell_type": "code",
   "execution_count": 14,
   "id": "75a048a2-3150-4387-840f-359b9f059d15",
   "metadata": {
    "tags": []
   },
   "outputs": [
    {
     "data": {
      "text/html": [
       "<div>\n",
       "<style scoped>\n",
       "    .dataframe tbody tr th:only-of-type {\n",
       "        vertical-align: middle;\n",
       "    }\n",
       "\n",
       "    .dataframe tbody tr th {\n",
       "        vertical-align: top;\n",
       "    }\n",
       "\n",
       "    .dataframe thead th {\n",
       "        text-align: right;\n",
       "    }\n",
       "</style>\n",
       "<table border=\"1\" class=\"dataframe\">\n",
       "  <thead>\n",
       "    <tr style=\"text-align: right;\">\n",
       "      <th></th>\n",
       "      <th>grams</th>\n",
       "      <th>tbsp</th>\n",
       "      <th>cup</th>\n",
       "      <th>cost</th>\n",
       "      <th>unit_cost</th>\n",
       "      <th>unit_quantity</th>\n",
       "      <th>calories</th>\n",
       "    </tr>\n",
       "  </thead>\n",
       "  <tbody>\n",
       "    <tr>\n",
       "      <th>flour</th>\n",
       "      <td>120.000000</td>\n",
       "      <td>15.000000</td>\n",
       "      <td>0.937500</td>\n",
       "      <td>0.068496</td>\n",
       "      <td>0.430000</td>\n",
       "      <td>0.053097</td>\n",
       "      <td>480.0</td>\n",
       "    </tr>\n",
       "    <tr>\n",
       "      <th>water</th>\n",
       "      <td>75.666667</td>\n",
       "      <td>5.117453</td>\n",
       "      <td>0.319841</td>\n",
       "      <td>0.000000</td>\n",
       "      <td>0.000000</td>\n",
       "      <td>0.000000</td>\n",
       "      <td>0.0</td>\n",
       "    </tr>\n",
       "    <tr>\n",
       "      <th>oil</th>\n",
       "      <td>11.666667</td>\n",
       "      <td>0.821596</td>\n",
       "      <td>0.051350</td>\n",
       "      <td>0.077661</td>\n",
       "      <td>4.426667</td>\n",
       "      <td>0.005848</td>\n",
       "      <td>105.0</td>\n",
       "    </tr>\n",
       "    <tr>\n",
       "      <th>salt</th>\n",
       "      <td>3.000000</td>\n",
       "      <td>0.166667</td>\n",
       "      <td>0.010417</td>\n",
       "      <td>0.001832</td>\n",
       "      <td>0.150000</td>\n",
       "      <td>0.004071</td>\n",
       "      <td>0.0</td>\n",
       "    </tr>\n",
       "    <tr>\n",
       "      <th>baking powder</th>\n",
       "      <td>3.196800</td>\n",
       "      <td>0.222000</td>\n",
       "      <td>0.013875</td>\n",
       "      <td>0.073997</td>\n",
       "      <td>2.623333</td>\n",
       "      <td>0.009402</td>\n",
       "      <td>0.0</td>\n",
       "    </tr>\n",
       "    <tr>\n",
       "      <th>Total</th>\n",
       "      <td>213.530133</td>\n",
       "      <td>21.327716</td>\n",
       "      <td>1.332982</td>\n",
       "      <td>0.221985</td>\n",
       "      <td>7.630000</td>\n",
       "      <td>0.072418</td>\n",
       "      <td>585.0</td>\n",
       "    </tr>\n",
       "  </tbody>\n",
       "</table>\n",
       "</div>"
      ],
      "text/plain": [
       "                    grams       tbsp       cup      cost  unit_cost  \\\n",
       "flour          120.000000  15.000000  0.937500  0.068496   0.430000   \n",
       "water           75.666667   5.117453  0.319841  0.000000   0.000000   \n",
       "oil             11.666667   0.821596  0.051350  0.077661   4.426667   \n",
       "salt             3.000000   0.166667  0.010417  0.001832   0.150000   \n",
       "baking powder    3.196800   0.222000  0.013875  0.073997   2.623333   \n",
       "Total          213.530133  21.327716  1.332982  0.221985   7.630000   \n",
       "\n",
       "               unit_quantity  calories  \n",
       "flour               0.053097     480.0  \n",
       "water               0.000000       0.0  \n",
       "oil                 0.005848     105.0  \n",
       "salt                0.004071       0.0  \n",
       "baking powder       0.009402       0.0  \n",
       "Total               0.072418     585.0  "
      ]
     },
     "execution_count": 14,
     "metadata": {},
     "output_type": "execute_result"
    }
   ],
   "source": [
    "bread / 3 # lets 1/3 recipe"
   ]
  },
  {
   "cell_type": "code",
   "execution_count": null,
   "id": "9b6436aa-d8e9-4391-b176-b3d5b71503be",
   "metadata": {},
   "outputs": [],
   "source": []
  }
 ],
 "metadata": {
  "kernelspec": {
   "display_name": "Python 3 (ipykernel)",
   "language": "python",
   "name": "python3"
  },
  "language_info": {
   "codemirror_mode": {
    "name": "ipython",
    "version": 3
   },
   "file_extension": ".py",
   "mimetype": "text/x-python",
   "name": "python",
   "nbconvert_exporter": "python",
   "pygments_lexer": "ipython3",
   "version": "3.9.7"
  }
 },
 "nbformat": 4,
 "nbformat_minor": 5
}
