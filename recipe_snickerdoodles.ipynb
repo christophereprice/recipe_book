{
 "cells": [
  {
   "cell_type": "code",
   "execution_count": 1,
   "id": "a6654593-5744-4a6a-bb09-ebc4f9ae001e",
   "metadata": {},
   "outputs": [],
   "source": [
    "import convert as c\n",
    "import pandas as pd"
   ]
  },
  {
   "cell_type": "markdown",
   "id": "9d926ff1-992f-4c14-9d2f-119bb1ee8615",
   "metadata": {
    "tags": []
   },
   "source": [
    "## Mrs. Sigg's Snickerdoodles"
   ]
  },
  {
   "cell_type": "markdown",
   "id": "bef6ebc3-7359-419f-bef4-39b611d3399a",
   "metadata": {},
   "source": [
    "Reference: https://www.allrecipes.com/recipe/10687/mrs-siggs-snickerdoodles/"
   ]
  },
  {
   "cell_type": "markdown",
   "id": "8cd8b5b1-246f-4aec-b249-d5e86ccf28b3",
   "metadata": {},
   "source": [
    "### Ingredients (./configure)"
   ]
  },
  {
   "cell_type": "code",
   "execution_count": 2,
   "id": "1d411fd2-ecf9-48e3-93bf-583273530334",
   "metadata": {},
   "outputs": [],
   "source": [
    "oil = c.oil(0.5,\"cups\")\n",
    "shortening = c.ingredient(\"shortening\",100,12.81)\n",
    "sugar = c.sugar(1.5,\"cups\")\n",
    "eggs = c.ingredient(\"eggs\",100,15)\n",
    "vanilla = c.ingredient(\"vanilla\",10,15)\n",
    "flour = c.flour(2.75,\"cups\")\n",
    "cream_tartar = c.ingredient(\"cream tartar\",6.75,10.13)\n",
    "baking_soda = c.ingredient(\"baking soda\",6.66,20)\n",
    "salt = c.salt(0.08,\"tbsp\")"
   ]
  },
  {
   "cell_type": "markdown",
   "id": "6a84336e-ed1b-45c0-b85e-aaff5389a41d",
   "metadata": {},
   "source": [
    "### Combine Ingredients (make)"
   ]
  },
  {
   "cell_type": "code",
   "execution_count": 3,
   "id": "35b4cb81-ff6d-4c16-992e-665d4ec8e942",
   "metadata": {},
   "outputs": [],
   "source": [
    "recipe = pd.concat([oil,shortening,sugar,eggs,vanilla,flour,cream_tartar,baking_soda,salt])\n",
    "recipe.loc['Total'] = recipe.sum()"
   ]
  },
  {
   "cell_type": "code",
   "execution_count": 4,
   "id": "38cd765d-47bc-431c-9e30-49e0e3937657",
   "metadata": {},
   "outputs": [
    {
     "data": {
      "text/html": [
       "<div>\n",
       "<style scoped>\n",
       "    .dataframe tbody tr th:only-of-type {\n",
       "        vertical-align: middle;\n",
       "    }\n",
       "\n",
       "    .dataframe tbody tr th {\n",
       "        vertical-align: top;\n",
       "    }\n",
       "\n",
       "    .dataframe thead th {\n",
       "        text-align: right;\n",
       "    }\n",
       "</style>\n",
       "<table border=\"1\" class=\"dataframe\">\n",
       "  <thead>\n",
       "    <tr style=\"text-align: right;\">\n",
       "      <th></th>\n",
       "      <th>grams</th>\n",
       "      <th>tbsp</th>\n",
       "      <th>cup</th>\n",
       "      <th>cost</th>\n",
       "      <th>unit_cost</th>\n",
       "      <th>unit_quantity</th>\n",
       "      <th>calories</th>\n",
       "    </tr>\n",
       "  </thead>\n",
       "  <tbody>\n",
       "    <tr>\n",
       "      <th>oil</th>\n",
       "      <td>56.800</td>\n",
       "      <td>4.000000</td>\n",
       "      <td>0.250000</td>\n",
       "      <td>0.378097</td>\n",
       "      <td>6.640</td>\n",
       "      <td>0.028471</td>\n",
       "      <td>511.2</td>\n",
       "    </tr>\n",
       "    <tr>\n",
       "      <th>shortening</th>\n",
       "      <td>50.000</td>\n",
       "      <td>3.903201</td>\n",
       "      <td>0.243950</td>\n",
       "      <td>50.000000</td>\n",
       "      <td>0.500</td>\n",
       "      <td>50.000000</td>\n",
       "      <td>0.0</td>\n",
       "    </tr>\n",
       "    <tr>\n",
       "      <th>sugar</th>\n",
       "      <td>144.000</td>\n",
       "      <td>12.000000</td>\n",
       "      <td>0.750000</td>\n",
       "      <td>0.174232</td>\n",
       "      <td>1.095</td>\n",
       "      <td>0.079558</td>\n",
       "      <td>540.0</td>\n",
       "    </tr>\n",
       "    <tr>\n",
       "      <th>eggs</th>\n",
       "      <td>50.000</td>\n",
       "      <td>3.333333</td>\n",
       "      <td>0.208333</td>\n",
       "      <td>50.000000</td>\n",
       "      <td>0.500</td>\n",
       "      <td>50.000000</td>\n",
       "      <td>0.0</td>\n",
       "    </tr>\n",
       "    <tr>\n",
       "      <th>vanilla</th>\n",
       "      <td>5.000</td>\n",
       "      <td>0.333333</td>\n",
       "      <td>0.020833</td>\n",
       "      <td>5.000000</td>\n",
       "      <td>0.500</td>\n",
       "      <td>5.000000</td>\n",
       "      <td>0.0</td>\n",
       "    </tr>\n",
       "    <tr>\n",
       "      <th>flour</th>\n",
       "      <td>176.000</td>\n",
       "      <td>22.000000</td>\n",
       "      <td>1.375000</td>\n",
       "      <td>0.100460</td>\n",
       "      <td>0.645</td>\n",
       "      <td>0.077876</td>\n",
       "      <td>704.0</td>\n",
       "    </tr>\n",
       "    <tr>\n",
       "      <th>cream tartar</th>\n",
       "      <td>3.375</td>\n",
       "      <td>0.333169</td>\n",
       "      <td>0.020823</td>\n",
       "      <td>3.375000</td>\n",
       "      <td>0.500</td>\n",
       "      <td>3.375000</td>\n",
       "      <td>0.0</td>\n",
       "    </tr>\n",
       "    <tr>\n",
       "      <th>baking soda</th>\n",
       "      <td>3.330</td>\n",
       "      <td>0.166500</td>\n",
       "      <td>0.010406</td>\n",
       "      <td>3.330000</td>\n",
       "      <td>0.500</td>\n",
       "      <td>3.330000</td>\n",
       "      <td>0.0</td>\n",
       "    </tr>\n",
       "    <tr>\n",
       "      <th>salt</th>\n",
       "      <td>0.720</td>\n",
       "      <td>0.040000</td>\n",
       "      <td>0.002500</td>\n",
       "      <td>0.000440</td>\n",
       "      <td>0.225</td>\n",
       "      <td>0.000977</td>\n",
       "      <td>0.0</td>\n",
       "    </tr>\n",
       "    <tr>\n",
       "      <th>Total</th>\n",
       "      <td>489.225</td>\n",
       "      <td>46.109536</td>\n",
       "      <td>2.881846</td>\n",
       "      <td>112.358229</td>\n",
       "      <td>11.105</td>\n",
       "      <td>111.891882</td>\n",
       "      <td>1755.2</td>\n",
       "    </tr>\n",
       "  </tbody>\n",
       "</table>\n",
       "</div>"
      ],
      "text/plain": [
       "                grams       tbsp       cup        cost  unit_cost  \\\n",
       "oil            56.800   4.000000  0.250000    0.378097      6.640   \n",
       "shortening     50.000   3.903201  0.243950   50.000000      0.500   \n",
       "sugar         144.000  12.000000  0.750000    0.174232      1.095   \n",
       "eggs           50.000   3.333333  0.208333   50.000000      0.500   \n",
       "vanilla         5.000   0.333333  0.020833    5.000000      0.500   \n",
       "flour         176.000  22.000000  1.375000    0.100460      0.645   \n",
       "cream tartar    3.375   0.333169  0.020823    3.375000      0.500   \n",
       "baking soda     3.330   0.166500  0.010406    3.330000      0.500   \n",
       "salt            0.720   0.040000  0.002500    0.000440      0.225   \n",
       "Total         489.225  46.109536  2.881846  112.358229     11.105   \n",
       "\n",
       "              unit_quantity  calories  \n",
       "oil                0.028471     511.2  \n",
       "shortening        50.000000       0.0  \n",
       "sugar              0.079558     540.0  \n",
       "eggs              50.000000       0.0  \n",
       "vanilla            5.000000       0.0  \n",
       "flour              0.077876     704.0  \n",
       "cream tartar       3.375000       0.0  \n",
       "baking soda        3.330000       0.0  \n",
       "salt               0.000977       0.0  \n",
       "Total            111.891882    1755.2  "
      ]
     },
     "execution_count": 4,
     "metadata": {},
     "output_type": "execute_result"
    }
   ],
   "source": [
    "recipe / 2"
   ]
  },
  {
   "cell_type": "markdown",
   "id": "d5e227c8-576a-40d8-8e21-4ad85ea8db73",
   "metadata": {},
   "source": [
    "### Directions \n",
    "#### Step 1\n",
    "Preheat oven to 400 degrees F (200 degrees C).\n",
    "\n",
    "#### Step 2\n",
    "Cream together butter, shortening, 1 1/2 cups sugar, eggs, and vanilla. Blend in flour, cream of tartar, soda, and salt. Shape dough by rounded spoonfuls into balls.\n",
    "\n",
    "#### Step 3\n",
    "Mix 2 tablespoons sugar and cinnamon together. Roll balls of dough in mixture. Place 2 inches apart on ungreased baking sheets.\n",
    "\n",
    "### Step 4\n",
    "Bake 8 to 10 minutes, or until set but not too hard. Remove immediately from baking sheets."
   ]
  },
  {
   "cell_type": "code",
   "execution_count": null,
   "id": "14902405-0832-455f-b65e-3230258aad14",
   "metadata": {},
   "outputs": [],
   "source": []
  }
 ],
 "metadata": {
  "kernelspec": {
   "display_name": "Python 3 (ipykernel)",
   "language": "python",
   "name": "python3"
  },
  "language_info": {
   "codemirror_mode": {
    "name": "ipython",
    "version": 3
   },
   "file_extension": ".py",
   "mimetype": "text/x-python",
   "name": "python",
   "nbconvert_exporter": "python",
   "pygments_lexer": "ipython3",
   "version": "3.9.7"
  }
 },
 "nbformat": 4,
 "nbformat_minor": 5
}
