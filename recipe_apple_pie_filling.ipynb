{
 "cells": [
  {
   "cell_type": "code",
   "execution_count": 1,
   "id": "a6654593-5744-4a6a-bb09-ebc4f9ae001e",
   "metadata": {
    "jupyter": {
     "source_hidden": true
    },
    "tags": []
   },
   "outputs": [],
   "source": [
    "import convert as c\n",
    "import pandas as pd"
   ]
  },
  {
   "cell_type": "markdown",
   "id": "9d926ff1-992f-4c14-9d2f-119bb1ee8615",
   "metadata": {
    "tags": []
   },
   "source": [
    "## Apple Pie (Joshua Weissman)"
   ]
  },
  {
   "cell_type": "markdown",
   "id": "bef6ebc3-7359-419f-bef4-39b611d3399a",
   "metadata": {},
   "source": [
    "Reference: https://youtu.be/irufGFnw7LM"
   ]
  },
  {
   "cell_type": "markdown",
   "id": "8cd8b5b1-246f-4aec-b249-d5e86ccf28b3",
   "metadata": {
    "tags": []
   },
   "source": [
    "### Ingredients (Pie Filling) (./configure)"
   ]
  },
  {
   "cell_type": "code",
   "execution_count": 8,
   "id": "1d411fd2-ecf9-48e3-93bf-583273530334",
   "metadata": {
    "tags": []
   },
   "outputs": [],
   "source": [
    "apples = c.ingredient(\"apples\",728,15,1,1)\n",
    "brown_sugar = c.ingredient(\"brown sugar\",95,15,1,1)\n",
    "sugar = c.sugar(106,\"grams\")\n",
    "cinnamon = c.ingredient(\"cinnamon\",4,15,1,1)\n",
    "all_spice = c.ingredient(\"all spice\",1,15,1,1)\n",
    "salt = c.salt(4,\"grams\")\n",
    "lemon = c.ingredient(\"lemon\",60,15,1,1)\n",
    "corn_starch = c.ingredient(\"corn starch\",9,15,1,1)\n",
    "water = c.water(21,\"grams\")"
   ]
  },
  {
   "cell_type": "markdown",
   "id": "6a84336e-ed1b-45c0-b85e-aaff5389a41d",
   "metadata": {
    "tags": []
   },
   "source": [
    "### Combine Ingredients (make)"
   ]
  },
  {
   "cell_type": "code",
   "execution_count": 9,
   "id": "35b4cb81-ff6d-4c16-992e-665d4ec8e942",
   "metadata": {
    "tags": []
   },
   "outputs": [],
   "source": [
    "recipe = pd.concat([apples,brown_sugar,sugar,cinnamon,all_spice,salt,lemon,corn_starch,water])\n",
    "recipe.loc['Total'] = recipe.sum()"
   ]
  },
  {
   "cell_type": "code",
   "execution_count": 10,
   "id": "38cd765d-47bc-431c-9e30-49e0e3937657",
   "metadata": {
    "tags": []
   },
   "outputs": [
    {
     "data": {
      "text/html": [
       "<div>\n",
       "<style scoped>\n",
       "    .dataframe tbody tr th:only-of-type {\n",
       "        vertical-align: middle;\n",
       "    }\n",
       "\n",
       "    .dataframe tbody tr th {\n",
       "        vertical-align: top;\n",
       "    }\n",
       "\n",
       "    .dataframe thead th {\n",
       "        text-align: right;\n",
       "    }\n",
       "</style>\n",
       "<table border=\"1\" class=\"dataframe\">\n",
       "  <thead>\n",
       "    <tr style=\"text-align: right;\">\n",
       "      <th></th>\n",
       "      <th>grams</th>\n",
       "      <th>tbsp</th>\n",
       "      <th>cup</th>\n",
       "      <th>cost</th>\n",
       "      <th>unit_cost</th>\n",
       "      <th>unit_quantity</th>\n",
       "      <th>calories</th>\n",
       "    </tr>\n",
       "  </thead>\n",
       "  <tbody>\n",
       "    <tr>\n",
       "      <th>apples</th>\n",
       "      <td>728.0</td>\n",
       "      <td>48.533333</td>\n",
       "      <td>3.033333</td>\n",
       "      <td>728.000000</td>\n",
       "      <td>1.00</td>\n",
       "      <td>728.000000</td>\n",
       "      <td>0.0</td>\n",
       "    </tr>\n",
       "    <tr>\n",
       "      <th>brown sugar</th>\n",
       "      <td>95.0</td>\n",
       "      <td>6.333333</td>\n",
       "      <td>0.395833</td>\n",
       "      <td>95.000000</td>\n",
       "      <td>1.00</td>\n",
       "      <td>95.000000</td>\n",
       "      <td>0.0</td>\n",
       "    </tr>\n",
       "    <tr>\n",
       "      <th>sugar</th>\n",
       "      <td>106.0</td>\n",
       "      <td>8.833333</td>\n",
       "      <td>0.552083</td>\n",
       "      <td>0.128254</td>\n",
       "      <td>2.19</td>\n",
       "      <td>0.058564</td>\n",
       "      <td>397.5</td>\n",
       "    </tr>\n",
       "    <tr>\n",
       "      <th>cinnamon</th>\n",
       "      <td>4.0</td>\n",
       "      <td>0.266667</td>\n",
       "      <td>0.016667</td>\n",
       "      <td>4.000000</td>\n",
       "      <td>1.00</td>\n",
       "      <td>4.000000</td>\n",
       "      <td>0.0</td>\n",
       "    </tr>\n",
       "    <tr>\n",
       "      <th>all spice</th>\n",
       "      <td>1.0</td>\n",
       "      <td>0.066667</td>\n",
       "      <td>0.004167</td>\n",
       "      <td>1.000000</td>\n",
       "      <td>1.00</td>\n",
       "      <td>1.000000</td>\n",
       "      <td>0.0</td>\n",
       "    </tr>\n",
       "    <tr>\n",
       "      <th>salt</th>\n",
       "      <td>4.0</td>\n",
       "      <td>0.222222</td>\n",
       "      <td>0.013889</td>\n",
       "      <td>0.002442</td>\n",
       "      <td>0.45</td>\n",
       "      <td>0.005427</td>\n",
       "      <td>0.0</td>\n",
       "    </tr>\n",
       "    <tr>\n",
       "      <th>lemon</th>\n",
       "      <td>60.0</td>\n",
       "      <td>4.000000</td>\n",
       "      <td>0.250000</td>\n",
       "      <td>60.000000</td>\n",
       "      <td>1.00</td>\n",
       "      <td>60.000000</td>\n",
       "      <td>0.0</td>\n",
       "    </tr>\n",
       "    <tr>\n",
       "      <th>corn starch</th>\n",
       "      <td>9.0</td>\n",
       "      <td>0.600000</td>\n",
       "      <td>0.037500</td>\n",
       "      <td>9.000000</td>\n",
       "      <td>1.00</td>\n",
       "      <td>9.000000</td>\n",
       "      <td>0.0</td>\n",
       "    </tr>\n",
       "    <tr>\n",
       "      <th>water</th>\n",
       "      <td>21.0</td>\n",
       "      <td>1.420262</td>\n",
       "      <td>0.088766</td>\n",
       "      <td>0.000000</td>\n",
       "      <td>0.00</td>\n",
       "      <td>0.000000</td>\n",
       "      <td>0.0</td>\n",
       "    </tr>\n",
       "    <tr>\n",
       "      <th>Total</th>\n",
       "      <td>1028.0</td>\n",
       "      <td>70.275818</td>\n",
       "      <td>4.392239</td>\n",
       "      <td>897.130696</td>\n",
       "      <td>8.64</td>\n",
       "      <td>897.063991</td>\n",
       "      <td>397.5</td>\n",
       "    </tr>\n",
       "  </tbody>\n",
       "</table>\n",
       "</div>"
      ],
      "text/plain": [
       "              grams       tbsp       cup        cost  unit_cost  \\\n",
       "apples        728.0  48.533333  3.033333  728.000000       1.00   \n",
       "brown sugar    95.0   6.333333  0.395833   95.000000       1.00   \n",
       "sugar         106.0   8.833333  0.552083    0.128254       2.19   \n",
       "cinnamon        4.0   0.266667  0.016667    4.000000       1.00   \n",
       "all spice       1.0   0.066667  0.004167    1.000000       1.00   \n",
       "salt            4.0   0.222222  0.013889    0.002442       0.45   \n",
       "lemon          60.0   4.000000  0.250000   60.000000       1.00   \n",
       "corn starch     9.0   0.600000  0.037500    9.000000       1.00   \n",
       "water          21.0   1.420262  0.088766    0.000000       0.00   \n",
       "Total        1028.0  70.275818  4.392239  897.130696       8.64   \n",
       "\n",
       "             unit_quantity  calories  \n",
       "apples          728.000000       0.0  \n",
       "brown sugar      95.000000       0.0  \n",
       "sugar             0.058564     397.5  \n",
       "cinnamon          4.000000       0.0  \n",
       "all spice         1.000000       0.0  \n",
       "salt              0.005427       0.0  \n",
       "lemon            60.000000       0.0  \n",
       "corn starch       9.000000       0.0  \n",
       "water             0.000000       0.0  \n",
       "Total           897.063991     397.5  "
      ]
     },
     "execution_count": 10,
     "metadata": {},
     "output_type": "execute_result"
    }
   ],
   "source": [
    "recipe"
   ]
  },
  {
   "cell_type": "markdown",
   "id": "85248109-94bc-41a4-be89-c8261255b770",
   "metadata": {},
   "source": [
    "```\n",
    "Filling:\n",
    "- 4 apples\n",
    "- 1/2 cup (95g) packed light brown sugary \n",
    "- 1/2 cup (106g) granulated white sugar\n",
    "- 2 teaspoons (4g) ground cinnamon\n",
    "- 1/2 teaspoon (1g) ground allspice \n",
    "- 1/2 teaspoon (4g) fine sea salt\n",
    "- juice of 1 lemon\n",
    "- 1 tbsp (9g) corn starch dissolved in 2 tablespoons (21g) water\n",
    "```"
   ]
  },
  {
   "cell_type": "code",
   "execution_count": null,
   "id": "324e3826-9824-425e-8f20-c62a18387252",
   "metadata": {},
   "outputs": [],
   "source": []
  },
  {
   "cell_type": "code",
   "execution_count": null,
   "id": "e7c128d2-bd87-4bc9-ac6e-43991fa0e862",
   "metadata": {},
   "outputs": [],
   "source": []
  }
 ],
 "metadata": {
  "kernelspec": {
   "display_name": "Python 3 (ipykernel)",
   "language": "python",
   "name": "python3"
  },
  "language_info": {
   "codemirror_mode": {
    "name": "ipython",
    "version": 3
   },
   "file_extension": ".py",
   "mimetype": "text/x-python",
   "name": "python",
   "nbconvert_exporter": "python",
   "pygments_lexer": "ipython3",
   "version": "3.9.7"
  }
 },
 "nbformat": 4,
 "nbformat_minor": 5
}
