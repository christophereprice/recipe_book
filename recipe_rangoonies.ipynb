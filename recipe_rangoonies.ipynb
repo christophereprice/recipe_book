{
 "cells": [
  {
   "cell_type": "code",
   "execution_count": 2,
   "id": "48869a0e-7d33-42d8-9baa-a5ddaf58c68a",
   "metadata": {},
   "outputs": [],
   "source": [
    "import convert as c\n",
    "import pandas as pd"
   ]
  },
  {
   "cell_type": "markdown",
   "id": "c7c27c63-7279-4fac-aec6-5685aa95ab3d",
   "metadata": {
    "tags": []
   },
   "source": [
    "## Crab Rangoonies"
   ]
  },
  {
   "cell_type": "markdown",
   "id": "8d9b3fd7-7479-4aec-b380-103f8d0315ba",
   "metadata": {},
   "source": [
    "Reference: https://foodwishes.blogspot.com/2015/10/crab-rangoon-rhymes-with-swoon.html"
   ]
  },
  {
   "cell_type": "markdown",
   "id": "8b63da5c-62c7-46f7-a165-308618753353",
   "metadata": {},
   "source": [
    "### Ingredients (./configure)"
   ]
  },
  {
   "cell_type": "code",
   "execution_count": 34,
   "id": "766865cd-eda4-432a-b677-9515582989f9",
   "metadata": {},
   "outputs": [],
   "source": [
    "flour = c.flour(2,\"cups\")\n",
    "water = c.water(0.3333,\"cups\")\n",
    "salt = c.salt(4.5,\"grams\")\n",
    "yeast = c.yeast(1,\"tbsp\")\n",
    "\n",
    "# + 1 egg"
   ]
  },
  {
   "cell_type": "markdown",
   "id": "7b92d7ed-e564-4238-a605-b6deca6a75ca",
   "metadata": {},
   "source": [
    "### Combine Ingredients (make)"
   ]
  },
  {
   "cell_type": "code",
   "execution_count": 37,
   "id": "0c9b7433-665d-4c50-8559-64f60df576f8",
   "metadata": {},
   "outputs": [
    {
     "data": {
      "text/html": [
       "<div>\n",
       "<style scoped>\n",
       "    .dataframe tbody tr th:only-of-type {\n",
       "        vertical-align: middle;\n",
       "    }\n",
       "\n",
       "    .dataframe tbody tr th {\n",
       "        vertical-align: top;\n",
       "    }\n",
       "\n",
       "    .dataframe thead th {\n",
       "        text-align: right;\n",
       "    }\n",
       "</style>\n",
       "<table border=\"1\" class=\"dataframe\">\n",
       "  <thead>\n",
       "    <tr style=\"text-align: right;\">\n",
       "      <th></th>\n",
       "      <th>grams</th>\n",
       "      <th>tbsp</th>\n",
       "      <th>cup</th>\n",
       "      <th>cost</th>\n",
       "      <th>unit_cost</th>\n",
       "      <th>unit_quantity</th>\n",
       "      <th>calories</th>\n",
       "    </tr>\n",
       "  </thead>\n",
       "  <tbody>\n",
       "    <tr>\n",
       "      <th>flour</th>\n",
       "      <td>256.000000</td>\n",
       "      <td>32.0000</td>\n",
       "      <td>2.000000</td>\n",
       "      <td>0.146124</td>\n",
       "      <td>1.29</td>\n",
       "      <td>0.113274</td>\n",
       "      <td>1024.0</td>\n",
       "    </tr>\n",
       "    <tr>\n",
       "      <th>water</th>\n",
       "      <td>78.850781</td>\n",
       "      <td>5.3328</td>\n",
       "      <td>0.333300</td>\n",
       "      <td>0.000000</td>\n",
       "      <td>0.00</td>\n",
       "      <td>0.000000</td>\n",
       "      <td>0.0</td>\n",
       "    </tr>\n",
       "    <tr>\n",
       "      <th>salt</th>\n",
       "      <td>4.500000</td>\n",
       "      <td>0.2500</td>\n",
       "      <td>0.015625</td>\n",
       "      <td>0.002748</td>\n",
       "      <td>0.45</td>\n",
       "      <td>0.006106</td>\n",
       "      <td>0.0</td>\n",
       "    </tr>\n",
       "    <tr>\n",
       "      <th>Total</th>\n",
       "      <td>339.350781</td>\n",
       "      <td>37.5828</td>\n",
       "      <td>2.348925</td>\n",
       "      <td>0.148872</td>\n",
       "      <td>1.74</td>\n",
       "      <td>0.119380</td>\n",
       "      <td>1024.0</td>\n",
       "    </tr>\n",
       "  </tbody>\n",
       "</table>\n",
       "</div>"
      ],
      "text/plain": [
       "            grams     tbsp       cup      cost  unit_cost  unit_quantity  \\\n",
       "flour  256.000000  32.0000  2.000000  0.146124       1.29       0.113274   \n",
       "water   78.850781   5.3328  0.333300  0.000000       0.00       0.000000   \n",
       "salt     4.500000   0.2500  0.015625  0.002748       0.45       0.006106   \n",
       "Total  339.350781  37.5828  2.348925  0.148872       1.74       0.119380   \n",
       "\n",
       "       calories  \n",
       "flour    1024.0  \n",
       "water       0.0  \n",
       "salt        0.0  \n",
       "Total    1024.0  "
      ]
     },
     "execution_count": 37,
     "metadata": {},
     "output_type": "execute_result"
    }
   ],
   "source": [
    "bread = pd.concat([flour,water,salt])\n",
    "bread.loc['Total'] = bread.sum()\n",
    "bread"
   ]
  },
  {
   "cell_type": "markdown",
   "id": "500bc981-c220-4a42-b329-210855c37b0a",
   "metadata": {},
   "source": [
    "### Deploy Bread"
   ]
  },
  {
   "cell_type": "markdown",
   "id": "f6c37221-a1bc-40cb-8103-f2ea4f3a2500",
   "metadata": {},
   "source": [
    "#### Set Constraints"
   ]
  },
  {
   "cell_type": "code",
   "execution_count": 38,
   "id": "75a048a2-3150-4387-840f-359b9f059d15",
   "metadata": {
    "tags": []
   },
   "outputs": [
    {
     "data": {
      "text/html": [
       "<div>\n",
       "<style scoped>\n",
       "    .dataframe tbody tr th:only-of-type {\n",
       "        vertical-align: middle;\n",
       "    }\n",
       "\n",
       "    .dataframe tbody tr th {\n",
       "        vertical-align: top;\n",
       "    }\n",
       "\n",
       "    .dataframe thead th {\n",
       "        text-align: right;\n",
       "    }\n",
       "</style>\n",
       "<table border=\"1\" class=\"dataframe\">\n",
       "  <thead>\n",
       "    <tr style=\"text-align: right;\">\n",
       "      <th></th>\n",
       "      <th>grams</th>\n",
       "      <th>tbsp</th>\n",
       "      <th>cup</th>\n",
       "      <th>cost</th>\n",
       "      <th>unit_cost</th>\n",
       "      <th>unit_quantity</th>\n",
       "      <th>calories</th>\n",
       "    </tr>\n",
       "  </thead>\n",
       "  <tbody>\n",
       "    <tr>\n",
       "      <th>flour</th>\n",
       "      <td>128.00000</td>\n",
       "      <td>16.0000</td>\n",
       "      <td>1.000000</td>\n",
       "      <td>0.073062</td>\n",
       "      <td>0.645</td>\n",
       "      <td>0.056637</td>\n",
       "      <td>512.0</td>\n",
       "    </tr>\n",
       "    <tr>\n",
       "      <th>water</th>\n",
       "      <td>39.42539</td>\n",
       "      <td>2.6664</td>\n",
       "      <td>0.166650</td>\n",
       "      <td>0.000000</td>\n",
       "      <td>0.000</td>\n",
       "      <td>0.000000</td>\n",
       "      <td>0.0</td>\n",
       "    </tr>\n",
       "    <tr>\n",
       "      <th>salt</th>\n",
       "      <td>2.25000</td>\n",
       "      <td>0.1250</td>\n",
       "      <td>0.007812</td>\n",
       "      <td>0.001374</td>\n",
       "      <td>0.225</td>\n",
       "      <td>0.003053</td>\n",
       "      <td>0.0</td>\n",
       "    </tr>\n",
       "    <tr>\n",
       "      <th>Total</th>\n",
       "      <td>169.67539</td>\n",
       "      <td>18.7914</td>\n",
       "      <td>1.174462</td>\n",
       "      <td>0.074436</td>\n",
       "      <td>0.870</td>\n",
       "      <td>0.059690</td>\n",
       "      <td>512.0</td>\n",
       "    </tr>\n",
       "  </tbody>\n",
       "</table>\n",
       "</div>"
      ],
      "text/plain": [
       "           grams     tbsp       cup      cost  unit_cost  unit_quantity  \\\n",
       "flour  128.00000  16.0000  1.000000  0.073062      0.645       0.056637   \n",
       "water   39.42539   2.6664  0.166650  0.000000      0.000       0.000000   \n",
       "salt     2.25000   0.1250  0.007812  0.001374      0.225       0.003053   \n",
       "Total  169.67539  18.7914  1.174462  0.074436      0.870       0.059690   \n",
       "\n",
       "       calories  \n",
       "flour     512.0  \n",
       "water       0.0  \n",
       "salt        0.0  \n",
       "Total     512.0  "
      ]
     },
     "execution_count": 38,
     "metadata": {},
     "output_type": "execute_result"
    }
   ],
   "source": [
    "bread / 2 # lets make a half recipe"
   ]
  },
  {
   "cell_type": "code",
   "execution_count": null,
   "id": "0347d739-7bb4-4bf2-a48f-5a7b368f3cd6",
   "metadata": {},
   "outputs": [],
   "source": []
  },
  {
   "cell_type": "code",
   "execution_count": null,
   "id": "b91b613e-0a8c-4ca8-91e1-ca62d4581c62",
   "metadata": {},
   "outputs": [],
   "source": []
  }
 ],
 "metadata": {
  "kernelspec": {
   "display_name": "Python 3 (ipykernel)",
   "language": "python",
   "name": "python3"
  },
  "language_info": {
   "codemirror_mode": {
    "name": "ipython",
    "version": 3
   },
   "file_extension": ".py",
   "mimetype": "text/x-python",
   "name": "python",
   "nbconvert_exporter": "python",
   "pygments_lexer": "ipython3",
   "version": "3.9.7"
  }
 },
 "nbformat": 4,
 "nbformat_minor": 5
}
